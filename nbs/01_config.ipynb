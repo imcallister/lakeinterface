{
 "cells": [
  {
   "cell_type": "code",
   "execution_count": null,
   "id": "4b546235-8564-44c6-8a05-d3691cbc7c72",
   "metadata": {},
   "outputs": [],
   "source": [
    "#| default_exp config"
   ]
  },
  {
   "cell_type": "markdown",
   "id": "d24041f3-3c5e-4de6-8804-b91221b10af5",
   "metadata": {},
   "source": [
    "## Config Manager\n",
    "\n",
    "A class to fetch required config from AWS Systems Manager.\n",
    "> Contans information such as S3 bucket used for datalake and database addresses\n",
    "\n",
    ">Note that this is not used for secrets"
   ]
  },
  {
   "cell_type": "code",
   "execution_count": null,
   "id": "9959cdc3-508c-4f7c-9b4d-d61349432d55",
   "metadata": {},
   "outputs": [],
   "source": [
    "#| exporti\n",
    "#| hide\n",
    "\n",
    "import boto3"
   ]
  },
  {
   "cell_type": "code",
   "execution_count": null,
   "id": "9135e414-0603-4635-843a-591b4463b57b",
   "metadata": {},
   "outputs": [],
   "source": [
    "#| export\n",
    "#| hide\n",
    "\n",
    "class ConfigManager:\n",
    "    \"\"\"\n",
    "    A class to fetch required config for LakeInterface from AWS Systems Manager.\n",
    "    ...\n",
    "\n",
    "    Attributes\n",
    "    ----------\n",
    "    manager : boto3 session client\n",
    "        AWS Systems Manager client\n",
    "        \n",
    "    Methods\n",
    "    -------\n",
    "    \n",
    "    __init__(profile='default'):\n",
    "        Initializes the AWS SSM session using AWS profile_name\n",
    "        \n",
    "    fetch_config(config_group):\n",
    "        Uses manager to fetch parameters from the /config_group path in AWS SSM\n",
    "    \n",
    "    \"\"\"\n",
    "    \n",
    "    def __init__(self, profile=None):\n",
    "        if profile:\n",
    "            session = boto3.session.Session(profile_name=profile)\n",
    "        else:\n",
    "            session = boto3.session.Session()\n",
    "            \n",
    "        self.manager = session.client('ssm')\n",
    "\n",
    "    def _get_parameter(self, config_group, parameter_name):\n",
    "        return self.manager.get_parameter(Name=parameter_name)['Parameter']['Value']\n",
    "\n",
    "    def fetch_config(self, config_group):\n",
    "        response = self.manager.describe_parameters(\n",
    "            ParameterFilters=[\n",
    "                {\n",
    "                    'Key': 'Path',\n",
    "                    'Values': [\n",
    "                        f'/{config_group}',\n",
    "                    ]\n",
    "                }\n",
    "            ]\n",
    "        )\n",
    "\n",
    "        return dict((\n",
    "            p['Name'].replace(f'/{config_group}/',''), \n",
    "            self._get_parameter(config_group, p['Name'])\n",
    "        ) for p in response['Parameters'])\n"
   ]
  },
  {
   "cell_type": "code",
   "execution_count": null,
   "id": "a96ece59-28ea-4d82-924e-36615903dbf6",
   "metadata": {},
   "outputs": [
    {
     "data": {
      "text/plain": [
       "{'param1': 'foo', 'param2': 'bar'}"
      ]
     },
     "execution_count": null,
     "metadata": {},
     "output_type": "execute_result"
    }
   ],
   "source": [
    "\n",
    "#cfg_manager = ConfigManager(profile='personal')\n",
    "cfg_manager = ConfigManager()\n",
    "cfg_manager.fetch_config('example')"
   ]
  },
  {
   "cell_type": "code",
   "execution_count": null,
   "id": "4f81564b-92b6-497e-983e-240b26991f1e",
   "metadata": {},
   "outputs": [],
   "source": []
  }
 ],
 "metadata": {
  "kernelspec": {
   "display_name": "python3",
   "language": "python",
   "name": "python3"
  }
 },
 "nbformat": 4,
 "nbformat_minor": 5
}
