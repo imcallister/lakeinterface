{
 "cells": [
  {
   "cell_type": "code",
   "execution_count": null,
   "id": "e067deb1-a0bd-4822-939c-2c1256e90d36",
   "metadata": {},
   "outputs": [],
   "source": [
    "#| default_exp datalake"
   ]
  },
  {
   "cell_type": "markdown",
   "id": "1664de47-b532-4afd-b632-10f88e8db8f6",
   "metadata": {},
   "source": [
    "## Datalake interface"
   ]
  },
  {
   "cell_type": "code",
   "execution_count": null,
   "id": "310a4bb9-05af-480e-8145-b773002fe916",
   "metadata": {},
   "outputs": [],
   "source": [
    "#| hide\n",
    "\n",
    "import sys\n",
    "from pathlib import Path\n",
    "\n",
    "sys.path.append(str(Path('.').absolute().parent))"
   ]
  },
  {
   "cell_type": "code",
   "execution_count": null,
   "id": "390df4bf-d926-44f7-ad19-d076fabdfaf1",
   "metadata": {},
   "outputs": [],
   "source": [
    "#| exporti\n",
    "\n",
    "import boto3\n",
    "import pandas as pd\n",
    "import json\n",
    "from io import BytesIO\n",
    "\n",
    "from lakeinterface.config import ConfigManager\n"
   ]
  },
  {
   "cell_type": "code",
   "execution_count": null,
   "id": "d534543d-fa73-45a0-9d34-8a3317b85dc3",
   "metadata": {},
   "outputs": [],
   "source": []
  },
  {
   "cell_type": "code",
   "execution_count": null,
   "id": "91459878-07c3-4219-afd2-62e2b60c0b59",
   "metadata": {},
   "outputs": [],
   "source": [
    "#| exporti\n",
    "\n",
    "class S3ObjectNotFound(Exception):\n",
    "    pass\n",
    "\n",
    "\n",
    "class Datalake(object):\n",
    "    \"\"\"\n",
    "    A class to wrap interface to an AWS S3 datalake\n",
    "    Implemented as a singleton to reduce number of live sessions\n",
    "    ...\n",
    "\n",
    "    Attributes\n",
    "    ----------\n",
    "    session: a boto3 session\n",
    "    s3 : a boto3 S3 client\n",
    "    bucket : S3 bucket location of lake\n",
    "    \n",
    "    Methods\n",
    "    -------\n",
    "    __init__(config, profile='default'):\n",
    "        Initializes the AWS S3 client using AWS profile_name and dict of parameters from ConfigManager\n",
    "    \n",
    "    get_object(key):\n",
    "        Core method for loading objects using boto3 S3 client\n",
    "    \n",
    "    load_csv(key, delimiter=',', skiprows=None, line_terminator=None):\n",
    "        Loads csv object with S3 prefix = key\n",
    "    \n",
    "    load_json(key):\n",
    "        Loads json object with S3 prefix = key\n",
    "        \n",
    "    list_objects(prefix):\n",
    "        Lists all objects with S3 prefix = key\n",
    "    \n",
    "    save_json(path, data, timestamp=None):\n",
    "        Saves json object to specified path with an optional timestamp that will be inserted into path\n",
    "    \n",
    "    put_object(key, data, metadata={}):\n",
    "        Core method for saving objects using boto3 S3 client\n",
    "    \n",
    "    most_recent(prefix):\n",
    "        For a given S3 prefix returns object has most recent timestamp\n",
    "     \n",
    "    put(path, df, timestamp=None):\n",
    "        Saves a dataframe as parquet to specified path with an optional timestamp that will be inserted into path\n",
    "    \n",
    "    get(path):\n",
    "        Loads parquet object from specified path as a dataframe\n",
    "\n",
    "    \"\"\"\n",
    "    _instance = None\n",
    "\n",
    "    def __new__(cls, config, profile_name='default'):\n",
    "        if cls._instance is None:\n",
    "            print('Creating the object')\n",
    "            cls._instance = super(Datalake, cls).__new__(cls)\n",
    "            # Put any initialization here.\n",
    "        return cls._instance\n",
    "    \n",
    "    def __init__(self, config, profile_name='default'):\n",
    "        print('init-ing', self.__dict__)\n",
    "        self.session = boto3.session.Session(profile_name=profile_name)\n",
    "        \n",
    "        self.bucket = config.get('bucket')\n",
    "        self.s3 = self.session.client('s3')\n",
    "        \n",
    "    def get_object(self, key):\n",
    "        try:\n",
    "            return self.s3.get_object(Bucket=self.bucket, Key=key)\n",
    "        except Exception as e:\n",
    "            if e.response['Error']['Code'] == 'NoSuchKey':\n",
    "                raise S3ObjectNotFound('No S3 object with key = %s' % key)\n",
    "            else:\n",
    "                raise\n",
    "\n",
    "    def load_csv(self,key, delimiter=',', skiprows=None, line_terminator=None):\n",
    "        obj = self.get_object(key)\n",
    "        if line_terminator:\n",
    "            return pd.read_csv(obj['Body'], delimiter=delimiter, skiprows=skiprows, lineterminator=line_terminator)\n",
    "        else:\n",
    "            return pd.read_csv(obj['Body'], delimiter=delimiter, skiprows=skiprows)\n",
    "    \n",
    "    \n",
    "    def load_json(self, key):\n",
    "        obj = self.get_object(key)\n",
    "        return json.loads(obj['Body'].read())\n",
    "        \n",
    "    \n",
    "    def list_objects(self, prefix):\n",
    "        \n",
    "        paginator = self.s3.get_paginator('list_objects_v2')\n",
    "        pages = paginator.paginate(Bucket=self.bucket, Prefix=prefix)\n",
    "\n",
    "        return sum([[obj['Key'] for obj in page['Contents']] for page in pages], [])\n",
    "    \n",
    "\n",
    "    def save_json(self, path, data, timestamp=None):\n",
    "        if timestamp:\n",
    "            key = f'{path}/timestamp={timestamp}/data.json'\n",
    "        else:\n",
    "            key = f'{path}/data.json'\n",
    "\n",
    "        return self.put_object(key, json.dumps(data))\n",
    "        \n",
    "    def put_object(self, key, data, metadata={}):\n",
    "        try:\n",
    "            resp = self.s3.put_object(\n",
    "                Bucket=self.bucket,\n",
    "                Key=key,\n",
    "                Body=data\n",
    "            )\n",
    "            status_code = resp['ResponseMetadata']['HTTPStatusCode']\n",
    "            if status_code == 200:\n",
    "                return True\n",
    "            else:\n",
    "                raise Exception(f'Unknown error. Status code: {status_code}')\n",
    "        except Exception as e:\n",
    "            raise Exception(f'Unknown error in put object for {key}. {str(e)}')\n",
    "\n",
    "            \n",
    "    def put(self, path, df, timestamp=None):\n",
    "        if timestamp:\n",
    "            key = f'{path}/timestamp={timestamp}/data.parquet'\n",
    "        else:\n",
    "            key = f'{path}/data.parquet'\n",
    "\n",
    "        out_buffer = BytesIO()\n",
    "        df.to_parquet(\n",
    "            out_buffer,\n",
    "            index=True,\n",
    "            engine='pyarrow',\n",
    "            compression='gzip',\n",
    "            allow_truncated_timestamps=True\n",
    "        )\n",
    "        if self.put_object(key, out_buffer.getvalue()):\n",
    "            return f'Saved to {key}'\n",
    "        else:\n",
    "            return f'Unknown error in save_parquet: {key}'\n",
    "    \n",
    "    def most_recent(self, prefix):\n",
    "        matched_objects = self.list_objects(prefix=prefix)\n",
    "        \n",
    "        if len(matched_objects) > 1:\n",
    "            print(f'Multiple objects found for prefix {prefix}')\n",
    "            return None\n",
    "        elif len(matched_objects) == 0:\n",
    "            print(f'No objects found for prefix {prefix}')\n",
    "            return None\n",
    "        else:\n",
    "            return matched_objects[0]\n",
    "\n",
    "    \n",
    "    def get(self, path):\n",
    "        try:\n",
    "            key = self.most_recent(path)\n",
    "        except Exception as e:\n",
    "            print(f'No objects found with path: {key}. {e}')\n",
    "            return None\n",
    "\n",
    "        resp = self.get_object(key)\n",
    "        return pd.read_parquet(BytesIO(resp['Body'].read()))\n",
    "    "
   ]
  },
  {
   "cell_type": "code",
   "execution_count": null,
   "id": "2ac6c76c-0edd-4e6c-89d4-9c2d3328a5bf",
   "metadata": {},
   "outputs": [],
   "source": [
    "cfgmgr = ConfigManager(profile='personal')\n",
    "cfg = cfgmgr.fetch_config('bankdata')"
   ]
  },
  {
   "cell_type": "code",
   "execution_count": null,
   "id": "bf620ae6-da95-4792-91a4-87e410ac2d29",
   "metadata": {},
   "outputs": [
    {
     "name": "stdout",
     "output_type": "stream",
     "text": [
      "Creating the object\n",
      "init-ing {}\n"
     ]
    }
   ],
   "source": [
    "lake = Datalake(cfg, profile_name='personal')"
   ]
  },
  {
   "cell_type": "code",
   "execution_count": null,
   "id": "295c88e7-d622-4c8d-99ba-f76c26783d70",
   "metadata": {},
   "outputs": [
    {
     "data": {
      "text/html": [
       "<div>\n",
       "<style scoped>\n",
       "    .dataframe tbody tr th:only-of-type {\n",
       "        vertical-align: middle;\n",
       "    }\n",
       "\n",
       "    .dataframe tbody tr th {\n",
       "        vertical-align: top;\n",
       "    }\n",
       "\n",
       "    .dataframe thead th {\n",
       "        text-align: right;\n",
       "    }\n",
       "</style>\n",
       "<table border=\"1\" class=\"dataframe\">\n",
       "  <thead>\n",
       "    <tr style=\"text-align: right;\">\n",
       "      <th></th>\n",
       "      <th>col1</th>\n",
       "      <th>col2</th>\n",
       "    </tr>\n",
       "  </thead>\n",
       "  <tbody>\n",
       "    <tr>\n",
       "      <th>0</th>\n",
       "      <td>1</td>\n",
       "      <td>3</td>\n",
       "    </tr>\n",
       "    <tr>\n",
       "      <th>1</th>\n",
       "      <td>2</td>\n",
       "      <td>4</td>\n",
       "    </tr>\n",
       "  </tbody>\n",
       "</table>\n",
       "</div>"
      ],
      "text/plain": [
       "   col1  col2\n",
       "0     1     3\n",
       "1     2     4"
      ]
     },
     "execution_count": null,
     "metadata": {},
     "output_type": "execute_result"
    }
   ],
   "source": [
    "d = {'col1': [1, 2], 'col2': [3, 4]}\n",
    "df = pd.DataFrame(data=d)\n",
    "df"
   ]
  },
  {
   "cell_type": "code",
   "execution_count": null,
   "id": "9d3989bf-c493-482c-864e-6b1f22292caa",
   "metadata": {},
   "outputs": [
    {
     "data": {
      "text/plain": [
       "'Saved to test/example2/data.parquet'"
      ]
     },
     "execution_count": null,
     "metadata": {},
     "output_type": "execute_result"
    }
   ],
   "source": [
    "s3.put('test/example2', df)"
   ]
  },
  {
   "cell_type": "code",
   "execution_count": null,
   "id": "81bfcb56-22a9-4f29-94f6-0aba765b5fd3",
   "metadata": {},
   "outputs": [
    {
     "data": {
      "text/plain": [
       "['test/example1/data.parquet',\n",
       " 'test/example2/data.parquet',\n",
       " 'test/put_example/data.parquet']"
      ]
     },
     "execution_count": null,
     "metadata": {},
     "output_type": "execute_result"
    }
   ],
   "source": [
    "s3.list_objects(prefix='test')"
   ]
  },
  {
   "cell_type": "code",
   "execution_count": null,
   "id": "9e5cac35-1a60-4ec0-8133-2f75fe65ad3d",
   "metadata": {},
   "outputs": [
    {
     "data": {
      "text/html": [
       "<div>\n",
       "<style scoped>\n",
       "    .dataframe tbody tr th:only-of-type {\n",
       "        vertical-align: middle;\n",
       "    }\n",
       "\n",
       "    .dataframe tbody tr th {\n",
       "        vertical-align: top;\n",
       "    }\n",
       "\n",
       "    .dataframe thead th {\n",
       "        text-align: right;\n",
       "    }\n",
       "</style>\n",
       "<table border=\"1\" class=\"dataframe\">\n",
       "  <thead>\n",
       "    <tr style=\"text-align: right;\">\n",
       "      <th></th>\n",
       "      <th>col1</th>\n",
       "      <th>col2</th>\n",
       "    </tr>\n",
       "  </thead>\n",
       "  <tbody>\n",
       "    <tr>\n",
       "      <th>0</th>\n",
       "      <td>1</td>\n",
       "      <td>3</td>\n",
       "    </tr>\n",
       "    <tr>\n",
       "      <th>1</th>\n",
       "      <td>2</td>\n",
       "      <td>4</td>\n",
       "    </tr>\n",
       "  </tbody>\n",
       "</table>\n",
       "</div>"
      ],
      "text/plain": [
       "   col1  col2\n",
       "0     1     3\n",
       "1     2     4"
      ]
     },
     "execution_count": null,
     "metadata": {},
     "output_type": "execute_result"
    }
   ],
   "source": [
    "s3.get('test/example1')"
   ]
  },
  {
   "cell_type": "code",
   "execution_count": null,
   "id": "3538103d-7c37-45e0-b7a8-aa73b81f4fc8",
   "metadata": {},
   "outputs": [],
   "source": []
  }
 ],
 "metadata": {
  "kernelspec": {
   "display_name": "python3",
   "language": "python",
   "name": "python3"
  }
 },
 "nbformat": 4,
 "nbformat_minor": 5
}
