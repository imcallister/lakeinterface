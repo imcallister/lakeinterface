{
 "cells": [
  {
   "cell_type": "code",
   "execution_count": null,
   "id": "9bf60ab9-6717-45b2-8368-2cac9a56f295",
   "metadata": {},
   "outputs": [],
   "source": [
    "#| default_exp lake_utils"
   ]
  },
  {
   "cell_type": "markdown",
   "id": "106a1167-a604-4ef3-abfb-d7a77acf47aa",
   "metadata": {},
   "source": [
    "## Utilities"
   ]
  },
  {
   "cell_type": "markdown",
   "id": "047e2397-6429-4eda-9117-a8c6f2212a95",
   "metadata": {},
   "source": [
    "### Loading Lake Interfaces"
   ]
  },
  {
   "cell_type": "code",
   "execution_count": null,
   "id": "816aad35-cd78-4613-b44d-508c25c90e59",
   "metadata": {},
   "outputs": [],
   "source": [
    "#| exporti\n",
    "import logging\n",
    "from time import time\n",
    "\n",
    "from lakeinterface.logger import Logger\n",
    "from lakeinterface.config import ConfigManager\n",
    "from lakeinterface.datalake import Datalake\n",
    "from lakeinterface.aurora import Aurora"
   ]
  },
  {
   "cell_type": "code",
   "execution_count": null,
   "id": "26419b5d-6e5a-4ff6-8353-398f2a14b4d5",
   "metadata": {},
   "outputs": [],
   "source": [
    "#| export\n",
    "\n",
    "CONSOLE_LOG_HANDLER = {\n",
    "    'handler_type': 'stream', \n",
    "    'level': logging.INFO, \n",
    "    'format': '%(name)s - %(levelname)s - %(message)s'\n",
    "}\n",
    "\n",
    "CLOUDWATCH_LOG_HANDLER = {\n",
    "    'handler_type': 'cloudwatch', \n",
    "    'log_group_name': 'machinesp/test', \n",
    "    'log_stream_name': 'lake_tester', \n",
    "    'level': logging.DEBUG, \n",
    "    'aws_profile_name': 'personal',\n",
    "    'format': '%(levelname)s - %(message)s'\n",
    "}\n",
    "\n",
    "LOG_HANDLERS = {\n",
    "    'console': CONSOLE_LOG_HANDLER,\n",
    "    'cloudwatch': CLOUDWATCH_LOG_HANDLER\n",
    "}\n",
    "\n",
    "\n",
    "SUPPORTED_INTERFACES = {'lake','aurora'}\n",
    "SUPPORTED_LOG_HANDLERS = set(LOG_HANDLERS.keys())"
   ]
  },
  {
   "cell_type": "code",
   "execution_count": null,
   "id": "c7de9758-8b96-4c3f-8b7b-342695f5e0ac",
   "metadata": {},
   "outputs": [],
   "source": [
    "#| export \n",
    "#| hide\n",
    "\n",
    "def load_lake_interfaces(\n",
    "    config_name='bankdata',\n",
    "    logger_name='bankdata',\n",
    "    aws_profile=None,\n",
    "    interface_names=[],\n",
    "    log_handlers=[]\n",
    "):\n",
    "    \n",
    "    if config_name is None:\n",
    "        raise Exception('load_lake_interfaces: no config specified')\n",
    "    \n",
    "    if aws_profile is None:\n",
    "        raise Exception('load_lake_interfaces: no AWS Profile specified')\n",
    "        \n",
    "    unsupported_interfaces = list(set(interface_names) - SUPPORTED_INTERFACES)\n",
    "    if len(unsupported_interfaces) > 0:\n",
    "        raise Exception(f'Unsupported interfaces.\\\n",
    "            You passed {\",\".join(unsupported_interfaces)}.\\\n",
    "            Following are supported:{\",\".join(SUPPORTED_INTERFACES)}')\n",
    "        \n",
    "    unsupported_log_handlers = list(set(log_handlers) - SUPPORTED_LOG_HANDLERS)\n",
    "    if len(unsupported_log_handlers) > 0:\n",
    "        raise Exception(f'Unsupported log handlers.\\\n",
    "            You passed {\",\".join(unsupported_log_handlers)}.\\\n",
    "            Following are supported:{\",\".join(SUPPORTED_LOG_HANDLERS)}')\n",
    "    \n",
    "    if len(log_handlers) > 0:\n",
    "        logger = Logger()\n",
    "        logger.configure(\n",
    "            [LOG_HANDLERS.get(h) for h in log_handlers], \n",
    "            logger_name=logger_name, \n",
    "            aws_profile=aws_profile\n",
    "        )\n",
    "\n",
    "    cfgmgr = ConfigManager(profile=aws_profile)\n",
    "    cfg = cfgmgr.fetch_config(config_name)\n",
    "    \n",
    "    interfaces = {}\n",
    "    if 'lake' in interface_names:\n",
    "        interfaces['lake'] = Datalake(cfg, profile_name=aws_profile)\n",
    "    \n",
    "    if 'aurora' in interface_names:\n",
    "        interfaces['aurora'] = Aurora(cfg)\n",
    "        \n",
    "    return interfaces"
   ]
  },
  {
   "cell_type": "code",
   "execution_count": null,
   "id": "4565739c-f551-47c7-8f52-bf3fc21f69bb",
   "metadata": {},
   "outputs": [
    {
     "data": {
      "text/plain": [
       "{'lake': <lakeinterface.datalake.Datalake>}"
      ]
     },
     "execution_count": null,
     "metadata": {},
     "output_type": "execute_result"
    }
   ],
   "source": [
    "load_lake_interfaces(\n",
    "    config_name='bankdata',\n",
    "    aws_profile='personal',\n",
    "    logger_name='bankdata',\n",
    "    interface_names=['lake'],\n",
    "    log_handlers=['console']\n",
    ")"
   ]
  },
  {
   "cell_type": "markdown",
   "id": "35381254-b08d-4821-9452-07a246972d1e",
   "metadata": {},
   "source": [
    "### Helper funcs\n",
    "\n",
    "Functions for Common tasks"
   ]
  },
  {
   "cell_type": "markdown",
   "id": "2586bd5c-2518-468b-89da-3f419c96f4ee",
   "metadata": {},
   "source": [
    "#### Unzipping from S3 to S3"
   ]
  },
  {
   "cell_type": "code",
   "execution_count": null,
   "id": "39eccb9c-e8f6-4a49-a164-b465ba233120",
   "metadata": {},
   "outputs": [],
   "source": [
    "#| exporti\n",
    "#| hide\n",
    "\n",
    "from io import BytesIO\n",
    "import zipfile"
   ]
  },
  {
   "cell_type": "code",
   "execution_count": null,
   "id": "b1275340-7cb3-4347-9c2b-a818262e9179",
   "metadata": {},
   "outputs": [],
   "source": [
    "#| export\n",
    "\n",
    "def unzip(lake_interface, source_file, destination_folder, exclude_pattern=None, include_pattern=None):\n",
    "    logs = [\n",
    "        '-' * 30,\n",
    "        f'Copying from {source_file} to {destination_folder}'\n",
    "    ]\n",
    "    \n",
    "        \n",
    "    zip_obj = lake_interface.get_object(source_file)\n",
    "    buffer = BytesIO(zip_obj[\"Body\"].read())\n",
    "\n",
    "    z = zipfile.ZipFile(buffer)\n",
    "    file_names = z.namelist()\n",
    "    filtered_files = file_names.copy()\n",
    "\n",
    "    if include_pattern:\n",
    "        filtered_files = [f for f in filtered_files if include_pattern in f]\n",
    "\n",
    "    if exclude_pattern:\n",
    "        filtered_files = [f for f in filtered_files if exclude_pattern not in f]\n",
    "\n",
    "    for filename in filtered_files:\n",
    "        file_info = z.getinfo(filename)\n",
    "\n",
    "        lake_interface.s3.upload_fileobj(\n",
    "            Fileobj=z.open(filename),\n",
    "            Bucket=lake_interface.bucket,\n",
    "            Key=f'{destination_folder}/{filename}'\n",
    "        )\n",
    "\n",
    "        logs.append(f'Copied {filename}')\n",
    "\n",
    "    return logs\n"
   ]
  },
  {
   "cell_type": "markdown",
   "id": "5e870d4d-2e4f-4a67-9e58-89b0d340eaf6",
   "metadata": {},
   "source": [
    "#### Function timer"
   ]
  },
  {
   "cell_type": "code",
   "execution_count": null,
   "id": "1532b2eb-8225-4207-a95d-e7e7c73d02e2",
   "metadata": {},
   "outputs": [],
   "source": [
    "#| export\n",
    "\n",
    "def func_timer(func):\n",
    "    # This function shows the execution time of \n",
    "    # the function object passed\n",
    "    def wrap_func(*args, **kwargs):\n",
    "        t1 = time()\n",
    "        result = func(*args, **kwargs)\n",
    "        t2 = time()\n",
    "        print(f'Function {func.__name__!r} executed in {(t2-t1):.4f}s')\n",
    "        return result\n",
    "    return wrap_func"
   ]
  },
  {
   "cell_type": "code",
   "execution_count": null,
   "id": "08f3bdb1-ed9f-4370-a3da-d3df0256b72e",
   "metadata": {},
   "outputs": [
    {
     "name": "stdout",
     "output_type": "stream",
     "text": [
      "Function 'long_time' executed in 0.0300s\n"
     ]
    }
   ],
   "source": [
    "@func_timer\n",
    "def long_time(n):\n",
    "    for i in range(n):\n",
    "        for j in range(100000):\n",
    "            i*j\n",
    "  \n",
    "  \n",
    "long_time(5)"
   ]
  },
  {
   "cell_type": "code",
   "execution_count": null,
   "id": "6945c42b-92fa-44c6-bf8d-0d2593a6b3ff",
   "metadata": {},
   "outputs": [],
   "source": []
  }
 ],
 "metadata": {
  "kernelspec": {
   "display_name": "python3",
   "language": "python",
   "name": "python3"
  }
 },
 "nbformat": 4,
 "nbformat_minor": 5
}
