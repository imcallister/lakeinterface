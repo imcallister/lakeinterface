{
 "cells": [
  {
   "cell_type": "code",
   "execution_count": null,
   "id": "9bf60ab9-6717-45b2-8368-2cac9a56f295",
   "metadata": {},
   "outputs": [],
   "source": [
    "#| default_exp lake_utils"
   ]
  },
  {
   "cell_type": "markdown",
   "id": "35381254-b08d-4821-9452-07a246972d1e",
   "metadata": {},
   "source": [
    "### Utilities\n",
    "\n",
    "Functions for Common tasks"
   ]
  },
  {
   "cell_type": "markdown",
   "id": "2586bd5c-2518-468b-89da-3f419c96f4ee",
   "metadata": {},
   "source": [
    "#### Unzipping from S3 to S3"
   ]
  },
  {
   "cell_type": "code",
   "execution_count": null,
   "id": "b1275340-7cb3-4347-9c2b-a818262e9179",
   "metadata": {},
   "outputs": [],
   "source": [
    "#| exporti\n",
    "\n",
    "def unzip(lake_interface, source_file, destination_folder, exclude_pattern=None, include_pattern=None):\n",
    "    logs = [\n",
    "        '-' * 30,\n",
    "        f'Copying from {source_file} to {destination_folder}'\n",
    "    ]\n",
    "    \n",
    "        \n",
    "    zip_obj = lake_interface.get_object(source_file)\n",
    "    buffer = BytesIO(zip_obj[\"Body\"].read())\n",
    "\n",
    "    z = zipfile.ZipFile(buffer)\n",
    "    file_names = z.namelist()\n",
    "    filtered_files = file_names.copy()\n",
    "\n",
    "    if include_pattern:\n",
    "        filtered_files = [f for f in filtered_files if include_pattern in f]\n",
    "\n",
    "    if exclude_pattern:\n",
    "        filtered_files = [f for f in filtered_files if exclude_pattern not in f]\n",
    "\n",
    "    for filename in filtered_files:\n",
    "        file_info = z.getinfo(filename)\n",
    "\n",
    "        lake_interface.s3.upload_fileobj(\n",
    "            Fileobj=z.open(filename),\n",
    "            Bucket=lake_interface.bucket,\n",
    "            Key=f'{destination_folder}/{filename}'\n",
    "        )\n",
    "\n",
    "        logs.append(f'Copied {filename}')\n",
    "\n",
    "    return logs\n"
   ]
  },
  {
   "cell_type": "markdown",
   "id": "cac283fa-7812-4fe5-a3e8-de85e8b95712",
   "metadata": {},
   "source": [
    "#### Fetching Glue Data Catalog"
   ]
  },
  {
   "cell_type": "code",
   "execution_count": null,
   "id": "b9c05b32-50c5-4633-a141-d5ca03b3f421",
   "metadata": {},
   "outputs": [],
   "source": [
    "#| exporti\n",
    "\n",
    "def parse_column_info(cols):\n",
    "    return [\n",
    "        {\n",
    "            'column_name': c['Name'], \n",
    "            'column_type': c['Type']\n",
    "        } for c in cols if '__index_level' not in c['Name']\n",
    "    ]\n",
    "    \n",
    "def parse_table_info(raw_table):\n",
    "    return {\n",
    "        'table_name': raw_table['Name'],\n",
    "        'database_name': raw_table['DatabaseName'],\n",
    "        'location': raw_table['StorageDescriptor']['Location'],\n",
    "        'columns': parse_column_info(raw_table['StorageDescriptor']['Columns'])\n",
    "    }"
   ]
  },
  {
   "cell_type": "code",
   "execution_count": null,
   "id": "f6b24c9f-7b4a-487d-8ae3-09f3451dd18c",
   "metadata": {},
   "outputs": [],
   "source": [
    "#| export\n",
    "\n",
    "def get_data_catalog(lake_interface, database_name):\n",
    "    \"\"\"\n",
    "    Fetches catalog for glue database\n",
    "\n",
    "    Parameters\n",
    "    ----------\n",
    "    lake_interface: LakeInterface, required\n",
    "        instance of class providing access to datalake\n",
    "    database_name : str, required\n",
    "        Name of AWS Glue database\n",
    "\n",
    "    Returns\n",
    "    -------\n",
    "    table_columns : list(str)\n",
    "        List of all columns in every table in form [table_name].[column_name]\n",
    "\n",
    "    \"\"\"\n",
    "    #harvest aws crawler metadata\n",
    "\n",
    "    session = lake_interface.session\n",
    "    glue = session.client('glue')\n",
    "\n",
    "    next_token = \"\"\n",
    "    #glue = boto3.client('glue',region_name='us-east-1')\n",
    "    tables = []\n",
    "\n",
    "    while True:\n",
    "        resp = glue.get_tables(DatabaseName=database_name, NextToken=next_token)\n",
    "\n",
    "        for tbl in resp['TableList']:\n",
    "            tables.append(parse_table_info(tbl))\n",
    "        next_token = resp.get('NextToken')\n",
    "        \n",
    "        if next_token is None:\n",
    "            break\n",
    "\n",
    "    return tables\n"
   ]
  },
  {
   "cell_type": "code",
   "execution_count": null,
   "id": "1532b2eb-8225-4207-a95d-e7e7c73d02e2",
   "metadata": {},
   "outputs": [],
   "source": []
  }
 ],
 "metadata": {
  "kernelspec": {
   "display_name": "python3",
   "language": "python",
   "name": "python3"
  }
 },
 "nbformat": 4,
 "nbformat_minor": 5
}
