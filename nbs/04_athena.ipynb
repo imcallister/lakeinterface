{
 "cells": [
  {
   "cell_type": "markdown",
   "id": "211aac39-9ab5-4fa7-955a-1ec2c04ce2a4",
   "metadata": {},
   "source": [
    "## Athena interface (not actively maintained)\n",
    "\n",
    "> Interface to AWS Glue and Athena"
   ]
  },
  {
   "cell_type": "code",
   "execution_count": null,
   "id": "35d9d2ef-c3ad-4d1b-bde2-4cc67d3f2aad",
   "metadata": {},
   "outputs": [],
   "source": [
    "#| default_exp athena"
   ]
  },
  {
   "cell_type": "code",
   "execution_count": null,
   "id": "a0d3e7e4-3274-41f3-933c-3cf631f9c812",
   "metadata": {},
   "outputs": [],
   "source": [
    "#| exporti\n",
    "#| hide\n",
    "\n",
    "import boto3\n",
    "\n",
    "from lakeinterface.config import ConfigManager\n",
    "from lakeinterface.datalake import Datalake"
   ]
  },
  {
   "cell_type": "markdown",
   "id": "e250713e-26f7-427d-b2e9-31b1cd276066",
   "metadata": {},
   "source": [
    "### Lake Interface class"
   ]
  },
  {
   "cell_type": "code",
   "execution_count": null,
   "id": "69b63c34-0199-4706-880f-ac4a3d399646",
   "metadata": {},
   "outputs": [],
   "source": [
    "#| export\n",
    "\n",
    "\n",
    "\n",
    "class LakeConfigNotFound(Exception):\n",
    "    pass\n",
    "\n",
    "\n",
    "class Athena():\n",
    "\n",
    "    def __init__(self, profile_name=None):\n",
    "        \n",
    "        self.session = boto3.session.Session(profile_name=profile_name)\n",
    "        \n",
    "        try:\n",
    "            self.config = ConfigManager(profile=profile_name).fetch_config('bankdata')\n",
    "        except Exception as e:\n",
    "            raise LakeConfigNotFound(e)\n",
    "        \n",
    "        self.athena = self.session.client('athena')\n",
    "        self.glue = self.session.client('glue')\n",
    "        self.queries = []\n",
    "        self.bucket = self.config.get('bucket')\n",
    "        self.query_results_location = f's3://{self.bucket}/{self.config.get(\"query_results_location\", \"athena_results\")}'\n",
    "        self.athena_workgroup = self.config.get('athena_workgroup', 'primary')\n",
    "    \n",
    "                \n",
    "    def start_query(self, query_def, query_id):\n",
    "        \n",
    "        response = self.athena.start_query_execution(\n",
    "            QueryString=query_def,\n",
    "            QueryExecutionContext={\n",
    "                'Database': 'bankdata'\n",
    "            },\n",
    "            WorkGroup=self.athena_workgroup,\n",
    "            ResultConfiguration={\"OutputLocation\": self.query_results_location}\n",
    "        )\n",
    "        \n",
    "        query_status = response['ResponseMetadata'].get('HTTPStatusCode')\n",
    "        \n",
    "        if query_status == 200:\n",
    "            query_record = {\n",
    "                'query_def': query_def,\n",
    "                'query_id': query_id,\n",
    "                'execution_id': response['QueryExecutionId']\n",
    "            }\n",
    "            try:\n",
    "                query_ids = [r['query_id'] for r in self.queries]\n",
    "                query_index = query_ids.index(query_id)\n",
    "                self.queries[query_index] = query_record\n",
    "            except:\n",
    "                # query_id is for new query\n",
    "                self.queries.append(query_record)\n",
    "                \n",
    "            response = {\n",
    "                'status': 'Query Started',\n",
    "                'execution_id': response['QueryExecutionId'],\n",
    "                'query_id': query_id\n",
    "            }\n",
    "        else:\n",
    "            response = response['ResponseMetadata']\n",
    "            response['status'] = 'Query Failed'\n",
    "        \n",
    "        return response\n",
    "\n",
    "    \n",
    "    def get_query_status(self, execution_id):\n",
    "        response = self.athena.get_query_execution(\n",
    "            QueryExecutionId=execution_id\n",
    "        )\n",
    "        return response['QueryExecution']['Status']['State']\n",
    "        \n",
    "    def get_query_results(self, query_id):\n",
    "        query_result_gen = (\n",
    "            q for q in self.queries\n",
    "            if q['query_id'] == query_id\n",
    "        )\n",
    "\n",
    "        query = next(query_result_gen)\n",
    "        \n",
    "        if query:\n",
    "            status = (self.get_query_status(query['execution_id']))\n",
    "            if status == 'SUCCEEDED':\n",
    "                results_paginator = self.athena.get_paginator('get_query_results')\n",
    "                results_iter = results_paginator.paginate(\n",
    "                    QueryExecutionId=query.get('execution_id'),\n",
    "                    PaginationConfig={\n",
    "                        'PageSize': 1000\n",
    "                    }\n",
    "                )\n",
    "\n",
    "                data = []\n",
    "                for rslt_page in results_iter:\n",
    "                    page_data = [[e.get('VarCharValue') for e in row['Data']] for row in rslt_page['ResultSet']['Rows']]\n",
    "                    data.append(page_data)\n",
    "\n",
    "                #return pd.DataFrame(columns=data[0], data=data[1:])\n",
    "                return data\n",
    "            else:\n",
    "                print(f'Query not complete. Status: {status}')\n",
    "                return None\n",
    "        else:\n",
    "            return None\n",
    "\n",
    "\n",
    "    def get_data_catalog(self, database_name):\n",
    "        \"\"\"\n",
    "        Fetches catalog for glue database\n",
    "\n",
    "        Parameters\n",
    "        ----------\n",
    "        lake_interface: LakeInterface, required\n",
    "            instance of class providing access to datalake\n",
    "        database_name : str, required\n",
    "            Name of AWS Glue database\n",
    "\n",
    "        Returns\n",
    "        -------\n",
    "        table_columns : list(str)\n",
    "            List of all columns in every table in form [table_name].[column_name]\n",
    "\n",
    "        \"\"\"\n",
    "        #harvest aws crawler metadata\n",
    "\n",
    "        next_token = \"\"\n",
    "        #glue = boto3.client('glue',region_name='us-east-1')\n",
    "        tables = []\n",
    "\n",
    "        while True:\n",
    "            resp = self.glue.get_tables(DatabaseName=database_name, NextToken=next_token)\n",
    "\n",
    "            for tbl in resp['TableList']:\n",
    "                tables.append(parse_table_info(tbl))\n",
    "            next_token = resp.get('NextToken')\n",
    "\n",
    "            if next_token is None:\n",
    "                break\n",
    "\n",
    "        return tables\n"
   ]
  },
  {
   "cell_type": "code",
   "execution_count": null,
   "id": "14131e63-5067-4fc7-8cdf-8f64271dd01d",
   "metadata": {},
   "outputs": [],
   "source": []
  },
  {
   "cell_type": "markdown",
   "id": "35381254-b08d-4821-9452-07a246972d1e",
   "metadata": {},
   "source": [
    "### Utilities\n",
    "\n",
    "Functions for Common tasks"
   ]
  },
  {
   "cell_type": "markdown",
   "id": "cac283fa-7812-4fe5-a3e8-de85e8b95712",
   "metadata": {},
   "source": [
    "#### Fetching Glue Data Catalog"
   ]
  },
  {
   "cell_type": "code",
   "execution_count": null,
   "id": "b9c05b32-50c5-4633-a141-d5ca03b3f421",
   "metadata": {},
   "outputs": [],
   "source": [
    "#| exporti\n",
    "\n",
    "def parse_column_info(cols):\n",
    "    return [\n",
    "        {\n",
    "            'column_name': c['Name'], \n",
    "            'column_type': c['Type']\n",
    "        } for c in cols if '__index_level' not in c['Name']\n",
    "    ]\n",
    "    \n",
    "def parse_table_info(raw_table):\n",
    "    return {\n",
    "        'table_name': raw_table['Name'],\n",
    "        'database_name': raw_table['DatabaseName'],\n",
    "        'location': raw_table['StorageDescriptor']['Location'],\n",
    "        'columns': parse_column_info(raw_table['StorageDescriptor']['Columns'])\n",
    "    }"
   ]
  },
  {
   "cell_type": "code",
   "execution_count": null,
   "id": "4b2e1409-3a9c-4f6b-808c-60d5c21e757e",
   "metadata": {},
   "outputs": [],
   "source": [
    "athena = Athena()\n",
    "catalog = athena.get_data_catalog('machinesp')"
   ]
  },
  {
   "cell_type": "code",
   "execution_count": null,
   "id": "99280856-f9f1-41d4-9387-02e421177f70",
   "metadata": {},
   "outputs": [],
   "source": []
  },
  {
   "cell_type": "markdown",
   "id": "2d4d66b9-2a33-4e64-92c0-cffe2fa52868",
   "metadata": {},
   "source": [
    "### Athena queries"
   ]
  },
  {
   "cell_type": "code",
   "execution_count": null,
   "id": "a00bd8df-a081-4ddf-b7ee-517345845e36",
   "metadata": {},
   "outputs": [],
   "source": [
    "db_name = 'machinesp'\n",
    "table_name = 'ci'\n",
    "query = f\"SELECT COUNT(*) from {db_name}.{table_name}\"\n",
    "\n",
    "resp = athena.start_query(query, 'count rows in ci')"
   ]
  },
  {
   "cell_type": "markdown",
   "id": "bf3584a1-ef6c-4171-8969-513304f5ac4b",
   "metadata": {},
   "source": [
    "Interface stores list of Athena queries"
   ]
  },
  {
   "cell_type": "code",
   "execution_count": null,
   "id": "fc66a2ca-4f20-43e6-b75e-9875e1957276",
   "metadata": {},
   "outputs": [
    {
     "data": {
      "text/plain": [
       "[{'query_def': 'SELECT COUNT(*) from machinesp.ci',\n",
       "  'query_id': 'count rows in ci',\n",
       "  'execution_id': '0cf1e74b-c5ac-45c9-b579-47f9a1f225a1'}]"
      ]
     },
     "execution_count": null,
     "metadata": {},
     "output_type": "execute_result"
    }
   ],
   "source": [
    "athena.queries"
   ]
  },
  {
   "cell_type": "markdown",
   "id": "267068aa-c021-45bd-89ab-567497b14eb7",
   "metadata": {},
   "source": [
    "The query id is used to retrieve the query results"
   ]
  },
  {
   "cell_type": "code",
   "execution_count": null,
   "id": "46e5841f-709b-4854-b701-9f59872c05f1",
   "metadata": {},
   "outputs": [
    {
     "data": {
      "text/plain": [
       "[[['_col0'], ['43847']]]"
      ]
     },
     "execution_count": null,
     "metadata": {},
     "output_type": "execute_result"
    }
   ],
   "source": [
    "athena.get_query_results('count rows in ci')"
   ]
  },
  {
   "cell_type": "code",
   "execution_count": null,
   "id": "63d70c6d-fdc2-4e0b-9e7f-a2920c0d21b1",
   "metadata": {},
   "outputs": [],
   "source": []
  }
 ],
 "metadata": {
  "kernelspec": {
   "display_name": "python3",
   "language": "python",
   "name": "python3"
  }
 },
 "nbformat": 4,
 "nbformat_minor": 5
}
