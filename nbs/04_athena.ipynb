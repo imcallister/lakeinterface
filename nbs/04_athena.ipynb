{
 "cells": [
  {
   "cell_type": "markdown",
   "id": "211aac39-9ab5-4fa7-955a-1ec2c04ce2a4",
   "metadata": {},
   "source": [
    "## Athena interface\n",
    "\n",
    "> Interface to AWS Glue and Athena"
   ]
  },
  {
   "cell_type": "code",
   "execution_count": null,
   "id": "35d9d2ef-c3ad-4d1b-bde2-4cc67d3f2aad",
   "metadata": {},
   "outputs": [],
   "source": [
    "#| default_exp athena"
   ]
  },
  {
   "cell_type": "code",
   "execution_count": null,
   "id": "a0d3e7e4-3274-41f3-933c-3cf631f9c812",
   "metadata": {},
   "outputs": [],
   "source": [
    "#| exporti\n",
    "\n",
    "import boto3\n",
    "import json\n",
    "import psycopg2\n",
    "import yaml\n",
    "from pathlib import Path\n",
    "from io import BytesIO\n",
    "import zipfile\n",
    "import pandas as pd\n",
    "import datetime"
   ]
  },
  {
   "cell_type": "markdown",
   "id": "e250713e-26f7-427d-b2e9-31b1cd276066",
   "metadata": {},
   "source": [
    "### Lake Interface class"
   ]
  },
  {
   "cell_type": "code",
   "execution_count": null,
   "id": "f775f43a-4d28-4e67-98b1-eeb1116ce44d",
   "metadata": {},
   "outputs": [],
   "source": [
    "import sys\n",
    "\n",
    "sys.path.append(str(Path('.').absolute().parent))"
   ]
  },
  {
   "cell_type": "code",
   "execution_count": null,
   "id": "384c6dd5-76e3-4d2e-8a16-11e6efef3405",
   "metadata": {},
   "outputs": [],
   "source": [
    "#| exporti\n",
    "\n",
    "from lakeinterface.config import ConfigManager"
   ]
  },
  {
   "cell_type": "code",
   "execution_count": null,
   "id": "54164f64-3720-473e-ac47-310dca3af183",
   "metadata": {},
   "outputs": [],
   "source": [
    "cfgmgr = ConfigManager(profile='personal')"
   ]
  },
  {
   "cell_type": "code",
   "execution_count": null,
   "id": "d53d3751-7f5d-46f2-84cd-f77bb6955826",
   "metadata": {},
   "outputs": [
    {
     "data": {
      "text/plain": [
       "{'aurora_readdb': 'machinesp-ro.c5dgb9ysggau.us-east-1.rds.amazonaws.com',\n",
       " 'aurora_secret_id': 'rds!cluster-16d6bc7f-84c2-485b-ae15-8f0afd6a2756',\n",
       " 'aurora_writedb': 'machinesp-instance-1.c5dgb9ysggau.us-east-1.rds.amazonaws.com',\n",
       " 'bucket': 'machinesp-datasets'}"
      ]
     },
     "execution_count": null,
     "metadata": {},
     "output_type": "execute_result"
    }
   ],
   "source": [
    "cfgmgr.fetch_config('bankdata')"
   ]
  },
  {
   "cell_type": "code",
   "execution_count": null,
   "id": "69b63c34-0199-4706-880f-ac4a3d399646",
   "metadata": {},
   "outputs": [],
   "source": [
    "#| export\n",
    "\n",
    "\n",
    "\n",
    "class LakeConfigNotFound(Exception):\n",
    "    pass\n",
    "\n",
    "\n",
    "class Athena():\n",
    "\n",
    "    def __init__(self, profile_name=None):\n",
    "        \n",
    "        self.session = boto3.session.Session(profile_name=profile_name)\n",
    "        \n",
    "        try:\n",
    "            self.config = ConfigManager(profile=profile_name).fetch_config('bankdata')\n",
    "        except Exception as e:\n",
    "            raise LakeConfigNotFound(e)\n",
    "        \n",
    "        self.athena = session.client('athena')\n",
    "        self.queries = []\n",
    "        self.query_results_location = f's3://{self.bucket}/{config.get(\"query_results_location\", \"athena_results\")}'\n",
    "        self.athena_workgroup = config.get('athena_workgroup', 'primary')\n",
    "    \n",
    "                \n",
    "    def start_query(self, query_def, query_id):\n",
    "        \n",
    "        response = self.athena.start_query_execution(\n",
    "            QueryString=query_def,\n",
    "            QueryExecutionContext={\n",
    "                'Database': 'bankdata'\n",
    "            },\n",
    "            WorkGroup=self.athena_workgroup,\n",
    "            ResultConfiguration={\"OutputLocation\": self.query_results_location}\n",
    "        )\n",
    "        \n",
    "        query_status = response['ResponseMetadata'].get('HTTPStatusCode')\n",
    "        \n",
    "        if query_status == 200:\n",
    "            query_record = {\n",
    "                'query_def': query_def,\n",
    "                'query_id': query_id,\n",
    "                'execution_id': response['QueryExecutionId']\n",
    "            }\n",
    "            try:\n",
    "                query_ids = [r['query_id'] for r in self.queries]\n",
    "                query_index = query_ids.index(query_id)\n",
    "                self.queries[query_index] = query_record\n",
    "            except:\n",
    "                # query_id is for new query\n",
    "                self.queries.append(query_record)\n",
    "                \n",
    "            response = {\n",
    "                'status': 'Query Started',\n",
    "                'execution_id': response['QueryExecutionId'],\n",
    "                'query_id': query_id\n",
    "            }\n",
    "        else:\n",
    "            response = response['ResponseMetadata']\n",
    "            response['status'] = 'Query Failed'\n",
    "        \n",
    "        return response\n",
    "\n",
    "    \n",
    "    def get_query_results(self, query_id):\n",
    "        query_result_gen = (\n",
    "            q for q in self.queries\n",
    "            if q['query_id'] == query_id\n",
    "        )\n",
    "\n",
    "        query = next(query_result_gen)\n",
    "        \n",
    "        if query:\n",
    "            results_paginator = self.athena.get_paginator('get_query_results')\n",
    "            results_iter = results_paginator.paginate(\n",
    "                QueryExecutionId=query.get('execution_id'),\n",
    "                PaginationConfig={\n",
    "                    'PageSize': 1000\n",
    "                }\n",
    "            )\n",
    "            \n",
    "            data = []\n",
    "            for rslt_page in results_iter:\n",
    "                page_data = [[e.get('VarCharValue') for e in row['Data']] for row in rslt_page['ResultSet']['Rows']]\n",
    "                data.append(page_data)\n",
    "            \n",
    "            \n",
    "            return pd.DataFrame(columns=data[0], data=data[1:])\n",
    "        else:\n",
    "            return None\n",
    "\n"
   ]
  },
  {
   "cell_type": "code",
   "execution_count": null,
   "id": "14131e63-5067-4fc7-8cdf-8f64271dd01d",
   "metadata": {},
   "outputs": [],
   "source": []
  },
  {
   "cell_type": "markdown",
   "id": "35381254-b08d-4821-9452-07a246972d1e",
   "metadata": {},
   "source": [
    "### Utilities\n",
    "\n",
    "Functions for Common tasks"
   ]
  },
  {
   "cell_type": "markdown",
   "id": "2586bd5c-2518-468b-89da-3f419c96f4ee",
   "metadata": {},
   "source": [
    "#### Unzipping from S3 to S3"
   ]
  },
  {
   "cell_type": "code",
   "execution_count": null,
   "id": "b1275340-7cb3-4347-9c2b-a818262e9179",
   "metadata": {},
   "outputs": [],
   "source": [
    "#| exporti\n",
    "\n",
    "def unzip(lake_interface, source_file, destination_folder, exclude_pattern=None, include_pattern=None):\n",
    "    logs = [\n",
    "        '-' * 30,\n",
    "        f'Copying from {source_file} to {destination_folder}'\n",
    "    ]\n",
    "    \n",
    "        \n",
    "    zip_obj = lake_interface.get_object(source_file)\n",
    "    buffer = BytesIO(zip_obj[\"Body\"].read())\n",
    "\n",
    "    z = zipfile.ZipFile(buffer)\n",
    "    file_names = z.namelist()\n",
    "    filtered_files = file_names.copy()\n",
    "\n",
    "    if include_pattern:\n",
    "        filtered_files = [f for f in filtered_files if include_pattern in f]\n",
    "\n",
    "    if exclude_pattern:\n",
    "        filtered_files = [f for f in filtered_files if exclude_pattern not in f]\n",
    "\n",
    "    for filename in filtered_files:\n",
    "        file_info = z.getinfo(filename)\n",
    "\n",
    "        lake_interface.s3.upload_fileobj(\n",
    "            Fileobj=z.open(filename),\n",
    "            Bucket=lake_interface.bucket,\n",
    "            Key=f'{destination_folder}/{filename}'\n",
    "        )\n",
    "\n",
    "        logs.append(f'Copied {filename}')\n",
    "\n",
    "    return logs\n"
   ]
  },
  {
   "cell_type": "markdown",
   "id": "cac283fa-7812-4fe5-a3e8-de85e8b95712",
   "metadata": {},
   "source": [
    "#### Fetching Glue Data Catalog"
   ]
  },
  {
   "cell_type": "code",
   "execution_count": null,
   "id": "b9c05b32-50c5-4633-a141-d5ca03b3f421",
   "metadata": {},
   "outputs": [],
   "source": [
    "#| exporti\n",
    "\n",
    "def parse_column_info(cols):\n",
    "    return [\n",
    "        {\n",
    "            'column_name': c['Name'], \n",
    "            'column_type': c['Type']\n",
    "        } for c in cols if '__index_level' not in c['Name']\n",
    "    ]\n",
    "    \n",
    "def parse_table_info(raw_table):\n",
    "    return {\n",
    "        'table_name': raw_table['Name'],\n",
    "        'database_name': raw_table['DatabaseName'],\n",
    "        'location': raw_table['StorageDescriptor']['Location'],\n",
    "        'columns': parse_column_info(raw_table['StorageDescriptor']['Columns'])\n",
    "    }"
   ]
  },
  {
   "cell_type": "code",
   "execution_count": null,
   "id": "f6b24c9f-7b4a-487d-8ae3-09f3451dd18c",
   "metadata": {},
   "outputs": [],
   "source": [
    "#| export\n",
    "\n",
    "def get_data_catalog(lake_interface, database_name):\n",
    "    \"\"\"\n",
    "    Fetches catalog for glue database\n",
    "\n",
    "    Parameters\n",
    "    ----------\n",
    "    lake_interface: LakeInterface, required\n",
    "        instance of class providing access to datalake\n",
    "    database_name : str, required\n",
    "        Name of AWS Glue database\n",
    "\n",
    "    Returns\n",
    "    -------\n",
    "    table_columns : list(str)\n",
    "        List of all columns in every table in form [table_name].[column_name]\n",
    "\n",
    "    \"\"\"\n",
    "    #harvest aws crawler metadata\n",
    "\n",
    "    session = lake_interface.session\n",
    "    glue = session.client('glue')\n",
    "\n",
    "    next_token = \"\"\n",
    "    #glue = boto3.client('glue',region_name='us-east-1')\n",
    "    tables = []\n",
    "\n",
    "    while True:\n",
    "        resp = glue.get_tables(DatabaseName=database_name, NextToken=next_token)\n",
    "\n",
    "        for tbl in resp['TableList']:\n",
    "            tables.append(parse_table_info(tbl))\n",
    "        next_token = resp.get('NextToken')\n",
    "        \n",
    "        if next_token is None:\n",
    "            break\n",
    "\n",
    "    return tables\n"
   ]
  },
  {
   "cell_type": "code",
   "execution_count": null,
   "id": "4b2e1409-3a9c-4f6b-808c-60d5c21e757e",
   "metadata": {},
   "outputs": [],
   "source": [
    "li = LakeInterface(config='machinesp')\n",
    "bankdata_catalog = get_data_catalog(li, 'bankdata')"
   ]
  },
  {
   "cell_type": "code",
   "execution_count": null,
   "id": "99280856-f9f1-41d4-9387-02e421177f70",
   "metadata": {},
   "outputs": [],
   "source": []
  },
  {
   "cell_type": "markdown",
   "id": "2d4d66b9-2a33-4e64-92c0-cffe2fa52868",
   "metadata": {},
   "source": [
    "### Athena queries"
   ]
  },
  {
   "cell_type": "code",
   "execution_count": null,
   "id": "a00bd8df-a081-4ddf-b7ee-517345845e36",
   "metadata": {},
   "outputs": [],
   "source": [
    "db_name = 'bankdata'\n",
    "table_name = 'call_report_sched_ci'\n",
    "query = f\"SELECT COUNT(*) from {db_name}.{table_name}\"\n",
    "\n",
    "resp = li.start_query(query, 'count rows in ci')"
   ]
  },
  {
   "cell_type": "markdown",
   "id": "bf3584a1-ef6c-4171-8969-513304f5ac4b",
   "metadata": {},
   "source": [
    "Interface stores list of Athena queries"
   ]
  },
  {
   "cell_type": "code",
   "execution_count": null,
   "id": "fc66a2ca-4f20-43e6-b75e-9875e1957276",
   "metadata": {},
   "outputs": [
    {
     "data": {
      "text/plain": [
       "[{'query_def': 'SELECT COUNT(*) from bankdata.call_report_sched_ci',\n",
       "  'query_id': 'count rows in ci',\n",
       "  'execution_id': '9372cd85-286f-4ae1-bc1b-422789f95485'}]"
      ]
     },
     "execution_count": null,
     "metadata": {},
     "output_type": "execute_result"
    }
   ],
   "source": [
    "li.queries"
   ]
  },
  {
   "cell_type": "markdown",
   "id": "267068aa-c021-45bd-89ab-567497b14eb7",
   "metadata": {},
   "source": [
    "The query id is used to retrieve the query results"
   ]
  },
  {
   "cell_type": "code",
   "execution_count": null,
   "id": "46e5841f-709b-4854-b701-9f59872c05f1",
   "metadata": {},
   "outputs": [
    {
     "data": {
      "text/html": [
       "<div>\n",
       "<style scoped>\n",
       "    .dataframe tbody tr th:only-of-type {\n",
       "        vertical-align: middle;\n",
       "    }\n",
       "\n",
       "    .dataframe tbody tr th {\n",
       "        vertical-align: top;\n",
       "    }\n",
       "\n",
       "    .dataframe thead th {\n",
       "        text-align: right;\n",
       "    }\n",
       "</style>\n",
       "<table border=\"1\" class=\"dataframe\">\n",
       "  <thead>\n",
       "    <tr style=\"text-align: right;\">\n",
       "      <th></th>\n",
       "      <th>_col0</th>\n",
       "    </tr>\n",
       "  </thead>\n",
       "  <tbody>\n",
       "    <tr>\n",
       "      <th>0</th>\n",
       "      <td>107073</td>\n",
       "    </tr>\n",
       "  </tbody>\n",
       "</table>\n",
       "</div>"
      ],
      "text/plain": [
       "    _col0\n",
       "0  107073"
      ]
     },
     "execution_count": null,
     "metadata": {},
     "output_type": "execute_result"
    }
   ],
   "source": [
    "li.get_query_results('count rows in ci')"
   ]
  },
  {
   "cell_type": "code",
   "execution_count": null,
   "id": "1532b2eb-8225-4207-a95d-e7e7c73d02e2",
   "metadata": {},
   "outputs": [],
   "source": []
  }
 ],
 "metadata": {
  "kernelspec": {
   "display_name": "python3",
   "language": "python",
   "name": "python3"
  }
 },
 "nbformat": 4,
 "nbformat_minor": 5
}
