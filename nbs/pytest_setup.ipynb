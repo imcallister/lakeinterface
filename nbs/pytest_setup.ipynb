{
 "cells": [
  {
   "cell_type": "code",
   "execution_count": null,
   "id": "45f9deec-ce21-44a2-a793-956cb3e86bbc",
   "metadata": {},
   "outputs": [],
   "source": [
    "import sys\n",
    "sys.path.append('/Users/ianmcallister/tooling/lakeinterface')"
   ]
  },
  {
   "cell_type": "code",
   "execution_count": null,
   "id": "46b2bfee-8f75-49ab-9c77-a38bd61cf3b2",
   "metadata": {},
   "outputs": [],
   "source": []
  },
  {
   "cell_type": "markdown",
   "id": "ec12dacf-4957-45dd-b7ab-73fb27435cda",
   "metadata": {},
   "source": [
    "### S3 bucket setup"
   ]
  },
  {
   "cell_type": "markdown",
   "id": "d8f8cfe7-dfe9-4898-9a84-18dcd0f89f72",
   "metadata": {},
   "source": [
    "- create a test bucket (something like *test-continuous-integration*)"
   ]
  },
  {
   "cell_type": "code",
   "execution_count": null,
   "id": "eca98838-d2d5-413b-a899-7d3d28a55170",
   "metadata": {},
   "outputs": [],
   "source": []
  },
  {
   "cell_type": "markdown",
   "id": "3a07b8a3-c953-43e4-ad31-904b43f7579a",
   "metadata": {},
   "source": [
    "### Systems Manager Parameter Store\n",
    "\n",
    "Following parameters need to be setup in AWS Systems Manager"
   ]
  },
  {
   "cell_type": "markdown",
   "id": "185d0327-159f-44eb-9b06-35b42d76e4d3",
   "metadata": {},
   "source": [
    "- *example/param1 = foo*\n",
    "- *example/param2 = bar*\n",
    "- *example/bucket = [name of S3 bucket created above]*"
   ]
  },
  {
   "cell_type": "markdown",
   "id": "1acdd2a0-49ac-49c0-bbd9-f69ffdb44db0",
   "metadata": {},
   "source": [
    "### S3 objects required for test"
   ]
  },
  {
   "cell_type": "code",
   "execution_count": null,
   "id": "b3f371cb-75d9-4dc7-9ce1-7c53819e8f3b",
   "metadata": {},
   "outputs": [],
   "source": [
    "import polars as pl\n",
    "from lakeinterface.datalake import Datalake"
   ]
  },
  {
   "cell_type": "code",
   "execution_count": null,
   "id": "55d1508d-6500-419a-bdbf-4fe5fc11936a",
   "metadata": {},
   "outputs": [],
   "source": [
    "test_lake = Datalake('example')\n",
    "\n",
    "d = {'col1': [1, 2], 'col2': [3, 4]}\n",
    "df = pl.DataFrame(data=d)\n",
    "test_lake.put('pytest/example1', df)"
   ]
  },
  {
   "cell_type": "code",
   "execution_count": null,
   "id": "25f0c97b-92b8-4151-940b-62919ae17bb3",
   "metadata": {},
   "outputs": [],
   "source": [
    "d = {'col1': [1, 2], 'col2': [3, 4]}\n",
    "df = pl.DataFrame(data=d)\n",
    "test_lake.put('pytest/example_with_timestamp', df, timestamp='20991021')\n",
    "\n",
    "test_lake.put('pytest/example_with_timestamp', df, timestamp='20231021')"
   ]
  },
  {
   "cell_type": "code",
   "execution_count": null,
   "id": "c820deae-4326-4c50-bc10-cd8bb3168ab1",
   "metadata": {},
   "outputs": [
    {
     "data": {
      "text/plain": [
       "'20991021'"
      ]
     },
     "execution_count": null,
     "metadata": {},
     "output_type": "execute_result"
    }
   ],
   "source": [
    "test_lake.most_recent_folder('pytest/example_with_timestamp')"
   ]
  },
  {
   "cell_type": "code",
   "execution_count": null,
   "id": "64fc2d09-020d-40dd-9523-ef737a09427f",
   "metadata": {},
   "outputs": [],
   "source": []
  }
 ],
 "metadata": {
  "kernelspec": {
   "display_name": "python3",
   "language": "python",
   "name": "python3"
  }
 },
 "nbformat": 4,
 "nbformat_minor": 5
}
