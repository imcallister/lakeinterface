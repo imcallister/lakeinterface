{
 "cells": [
  {
   "cell_type": "code",
   "execution_count": null,
   "id": "9ee29490-30b2-4e2f-87c2-c3526f545359",
   "metadata": {},
   "outputs": [],
   "source": [
    "#| default_exp utilities"
   ]
  },
  {
   "cell_type": "code",
   "execution_count": null,
   "id": "bd121757-a67d-4266-9bce-7885f0cdd9f8",
   "metadata": {},
   "outputs": [],
   "source": [
    "#| exporti\n",
    "from time import time"
   ]
  },
  {
   "cell_type": "code",
   "execution_count": null,
   "id": "86bd13d8-c5e7-43b1-a24a-cb0e5eb7d210",
   "metadata": {},
   "outputs": [],
   "source": [
    "#| export\n",
    "  \n",
    "  \n",
    "def func_timer(func):\n",
    "    # This function shows the execution time of \n",
    "    # the function object passed\n",
    "    def wrap_func(*args, **kwargs):\n",
    "        t1 = time()\n",
    "        result = func(*args, **kwargs)\n",
    "        t2 = time()\n",
    "        print(f'Function {func.__name__!r} executed in {(t2-t1):.4f}s')\n",
    "        return result\n",
    "    return wrap_func"
   ]
  },
  {
   "cell_type": "code",
   "execution_count": null,
   "id": "3f34f7c3-2f18-4e37-b3ca-4abddcc3abff",
   "metadata": {},
   "outputs": [
    {
     "name": "stdout",
     "output_type": "stream",
     "text": [
      "Function 'long_time' executed in 0.0279s\n"
     ]
    }
   ],
   "source": [
    "@func_timer\n",
    "def long_time(n):\n",
    "    for i in range(n):\n",
    "        for j in range(100000):\n",
    "            i*j\n",
    "  \n",
    "  \n",
    "long_time(5)"
   ]
  },
  {
   "cell_type": "code",
   "execution_count": null,
   "id": "6ae9c2b8-be86-48c4-9b48-e7ac47b6e5fc",
   "metadata": {},
   "outputs": [],
   "source": []
  }
 ],
 "metadata": {
  "kernelspec": {
   "display_name": "python3",
   "language": "python",
   "name": "python3"
  }
 },
 "nbformat": 4,
 "nbformat_minor": 5
}
