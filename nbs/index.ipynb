{
 "cells": [
  {
   "cell_type": "code",
   "execution_count": null,
   "metadata": {},
   "outputs": [],
   "source": [
    "#| hide\n",
    "from lake_interface.core import *"
   ]
  },
  {
   "cell_type": "markdown",
   "metadata": {},
   "source": [
    "# lake_interface\n",
    "\n",
    "> "
   ]
  },
  {
   "cell_type": "markdown",
   "metadata": {},
   "source": [
    "This file will become your README and also the index of your documentation."
   ]
  },
  {
   "cell_type": "markdown",
   "metadata": {},
   "source": [
    "## Install"
   ]
  },
  {
   "cell_type": "markdown",
   "metadata": {},
   "source": [
    "You will need pandas, jupyterlab and nbdev. \n",
    "\n",
    "```console\n",
    "$ pip install pandas==2.0.0\n",
    "$ pip install boto3==1.26.114\n",
    "$ pip install nbdev==2.3.12\n",
    "$ pip install jupyterlab==3.6.3\n",
    "$ pip install pyarrow==12.0.1\n",
    "\n",
    "```\n",
    "\n",
    "There are a couple of nbdev extensions needed:\n",
    "```console\n",
    "$ nbdev_install_hooks\n",
    "$ nbdev_install_quarto\n",
    "$ pip install jupyterlab-quarto==0.1.45\n",
    "```\n",
    "\n",
    "Documentation can be viewed locally with\n",
    "```console\n",
    "$ nbdev_preview\n",
    "```"
   ]
  },
  {
   "cell_type": "code",
   "execution_count": null,
   "metadata": {},
   "outputs": [],
   "source": []
  }
 ],
 "metadata": {
  "kernelspec": {
   "display_name": "python3",
   "language": "python",
   "name": "python3"
  }
 },
 "nbformat": 4,
 "nbformat_minor": 4
}
