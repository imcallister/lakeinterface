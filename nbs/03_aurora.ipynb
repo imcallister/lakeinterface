{
 "cells": [
  {
   "cell_type": "code",
   "execution_count": null,
   "id": "d2281b88-e2d6-44dd-9aea-2951a91a1166",
   "metadata": {},
   "outputs": [],
   "source": [
    "#| default_exp aurora"
   ]
  },
  {
   "cell_type": "markdown",
   "id": "d52e1f02-59dc-454c-a3f4-d3fb7f88f29d",
   "metadata": {},
   "source": [
    "## Wrapper around Aurora Postgres\n",
    "\n",
    "Implements a singleton pattern in order to prevent opening multiple database connections"
   ]
  },
  {
   "cell_type": "code",
   "execution_count": null,
   "id": "e39883fc-2d26-4706-9921-818474092c46",
   "metadata": {},
   "outputs": [],
   "source": [
    "#| exporti\n",
    "\n",
    "from lakeinterface.config import ConfigManager\n",
    "import json\n",
    "import psycopg2\n",
    "import boto3\n",
    "import polars as pl"
   ]
  },
  {
   "cell_type": "code",
   "execution_count": null,
   "id": "0a1363d5-65d7-49c7-9743-f282b1c48238",
   "metadata": {},
   "outputs": [],
   "source": [
    "#| exporti\n",
    "#| hide\n",
    "\n",
    "class Aurora(object):\n",
    "    \"\"\"\n",
    "    A class to wrap connections to an AWS Aurora postgres cluster.\n",
    "    Implemented as a singleton to reduce number of open connections\n",
    "    ...\n",
    "\n",
    "    Attributes\n",
    "    ----------\n",
    "    write_host : endpoint of writer instance of the cluster\n",
    "    read_host : endpoint of reader instance of the cluster\n",
    "    secret_id : id of AWS Secrets Manager secret containing connection credentials\n",
    "    write_conn : pyscopg2 connection to write_host\n",
    "    read_conn : pyscopg2 connection to read_host\n",
    "    \n",
    "    Methods\n",
    "    -------\n",
    "    __init__(config, profile='default'):\n",
    "        Initializes the AWS Aurora connections using AWS profile_name and dict of parameters from ConfigManager\n",
    "    \n",
    "    aurora_connection(host):\n",
    "        Core class for opening connections\n",
    "    \n",
    "    open_write_connection():\n",
    "        Opens a pyscopg2 connection to write_host using aurora_connection method.\n",
    "\n",
    "    open_read_connection():\n",
    "        Opens a pyscopg2 connection to read_host using aurora_connection method.\n",
    "        \n",
    "    close_connections():\n",
    "        Closes both read and write connections.\n",
    "        \n",
    "    query(sql):\n",
    "        Executes a query on the read connection\n",
    "\n",
    "    \"\"\"\n",
    "    _instance = None\n",
    "\n",
    "    def __new__(cls, config, profile_name='default'):\n",
    "        if cls._instance is None:\n",
    "            cls._instance = super(Aurora, cls).__new__(cls)\n",
    "            # Put any initialization here.\n",
    "        return cls._instance\n",
    "    \n",
    "    def __init__(self, config, profile_name='default'):\n",
    "        self.session = boto3.session.Session(profile_name=profile_name)\n",
    "        \n",
    "        self.write_host = config['aurora_writedb']\n",
    "        self.read_host = config['aurora_readdb']\n",
    "        self.secret_id = config['aurora_secret_id']\n",
    "        \n",
    "        self.open_read_connection()\n",
    "        self.open_write_connection()\n",
    "        \n",
    "    def open_read_connection(self):\n",
    "        self.read_conn = self.aurora_connection(\n",
    "            self.read_host\n",
    "        )\n",
    "        \n",
    "    def open_write_connection(self):\n",
    "        self.write_conn = self.aurora_connection(\n",
    "            self.write_host\n",
    "        )\n",
    "        \n",
    "    def close_connections(self):\n",
    "        self.write_conn.close()\n",
    "        self.read_conn.close()\n",
    "        \n",
    "    def __exit__(self):\n",
    "        self.close_connections()\n",
    "        \n",
    "    def aurora_connection(self, host):\n",
    "        sman = self.session.client('secretsmanager')\n",
    "        secret = sman.get_secret_value(SecretId=self.secret_id)\n",
    "        credentials = json.loads(secret['SecretString'])\n",
    "\n",
    "        return psycopg2.connect(\n",
    "            database=\"bankdata\",\n",
    "            host=host,\n",
    "            user=credentials['username'],\n",
    "            password=credentials['password'],\n",
    "            port=\"5432\"\n",
    "        )\n",
    "    \n",
    "    def query(self, sql):\n",
    "        if self.read_conn.closed == 1:\n",
    "            self.open_read_connection()\n",
    "            \n",
    "        with self.read_conn.cursor() as cursor:\n",
    "            cursor.execute(sql)\n",
    "\n",
    "            try:\n",
    "                col_names = [desc[0] for desc in cursor.description]\n",
    "                data = cursor.fetchall()\n",
    "                self.read_conn.commit()\n",
    "                \n",
    "                df = pl.DataFrame(data, schema=col_names, orient='row')\n",
    "\n",
    "                return df\n",
    "            except Exception as e:\n",
    "                self.read_conn.commit()\n",
    "                raise e"
   ]
  },
  {
   "cell_type": "code",
   "execution_count": null,
   "id": "0a0d5a52-a360-4012-b788-bb3d8decae73",
   "metadata": {},
   "outputs": [
    {
     "name": "stdout",
     "output_type": "stream",
     "text": [
      "\n",
      "    A class to wrap connections to an AWS Aurora postgres cluster.\n",
      "    Implemented as a singleton to reduce number of open connections\n",
      "    ...\n",
      "\n",
      "    Attributes\n",
      "    ----------\n",
      "    write_host : endpoint of writer instance of the cluster\n",
      "    read_host : endpoint of reader instance of the cluster\n",
      "    secret_id : id of AWS Secrets Manager secret containing connection credentials\n",
      "    write_conn : pyscopg2 connection to write_host\n",
      "    read_conn : pyscopg2 connection to read_host\n",
      "    \n",
      "    Methods\n",
      "    -------\n",
      "    __init__(config, profile='default'):\n",
      "        Initializes the AWS Aurora connections using AWS profile_name and dict of parameters from ConfigManager\n",
      "    \n",
      "    aurora_connection(host):\n",
      "        Core class for opening connections\n",
      "    \n",
      "    open_write_connection():\n",
      "        Opens a pyscopg2 connection to write_host using aurora_connection method.\n",
      "\n",
      "    open_read_connection():\n",
      "        Opens a pyscopg2 connection to read_host using aurora_connection method.\n",
      "        \n",
      "    close_connections():\n",
      "        Closes both read and write connections.\n",
      "        \n",
      "    query(sql):\n",
      "        Executes a query on the read connection\n",
      "\n",
      "    \n"
     ]
    }
   ],
   "source": [
    "print(Aurora.__doc__)"
   ]
  },
  {
   "cell_type": "code",
   "execution_count": null,
   "id": "e1a007be-9a7b-48ae-8152-a4a06787edde",
   "metadata": {},
   "outputs": [],
   "source": [
    "cfgmgr = ConfigManager(profile='personal')\n",
    "cfg = cfgmgr.fetch_config('bankdata')"
   ]
  },
  {
   "cell_type": "code",
   "execution_count": null,
   "id": "ea037325-243e-4a14-9ad7-f6d8ec94a3d8",
   "metadata": {},
   "outputs": [],
   "source": [
    "db = Aurora(cfg)"
   ]
  },
  {
   "cell_type": "code",
   "execution_count": null,
   "id": "b269d7dc-b9c6-4e73-a853-90788c1aeeba",
   "metadata": {},
   "outputs": [
    {
     "data": {
      "text/html": [
       "<div><style>\n",
       ".dataframe > thead > tr > th,\n",
       ".dataframe > tbody > tr > td {\n",
       "  text-align: right;\n",
       "}\n",
       "</style>\n",
       "<small>shape: (5, 1)</small><table border=\"1\" class=\"dataframe\"><thead><tr><th>metric_name</th></tr><tr><td>str</td></tr></thead><tbody><tr><td>&quot;CRE Owner-Occu…</td></tr><tr><td>&quot;Total Capital …</td></tr><tr><td>&quot;Residential Co…</td></tr><tr><td>&quot;CET1&quot;</td></tr><tr><td>&quot;Farmland&quot;</td></tr></tbody></table></div>"
      ],
      "text/plain": [
       "shape: (5, 1)\n",
       "┌──────────────────────────┐\n",
       "│ metric_name              │\n",
       "│ ---                      │\n",
       "│ str                      │\n",
       "╞══════════════════════════╡\n",
       "│ CRE Owner-Occupied       │\n",
       "│ Total Capital Ratio      │\n",
       "│ Residential Construction │\n",
       "│ CET1                     │\n",
       "│ Farmland                 │\n",
       "└──────────────────────────┘"
      ]
     },
     "execution_count": null,
     "metadata": {},
     "output_type": "execute_result"
    }
   ],
   "source": [
    "db.query(\"\"\"\n",
    "    SELECT\n",
    "        DISTINCT(metric_name) as metric_name\n",
    "    FROM\n",
    "        publish.dashboard_metric_defs\n",
    "    WHERE\n",
    "        field_type = 'simple'\n",
    "\"\"\").head()"
   ]
  },
  {
   "cell_type": "code",
   "execution_count": null,
   "id": "bf3b315c-2533-42f3-be77-a5319f761974",
   "metadata": {},
   "outputs": [
    {
     "data": {
      "text/html": [
       "<div><style>\n",
       ".dataframe > thead > tr > th,\n",
       ".dataframe > tbody > tr > td {\n",
       "  text-align: right;\n",
       "}\n",
       "</style>\n",
       "<small>shape: (10, 4)</small><table border=\"1\" class=\"dataframe\"><thead><tr><th>idrssd</th><th>filing_date</th><th>metric_name</th><th>metric_value</th></tr><tr><td>str</td><td>date</td><td>str</td><td>f64</td></tr></thead><tbody><tr><td>&quot;1000959&quot;</td><td>2022-06-30</td><td>&quot;OCI&quot;</td><td>-4837.0</td></tr><tr><td>&quot;1000959&quot;</td><td>2022-06-30</td><td>&quot;Beginning Capi…</td><td>23331.0</td></tr><tr><td>&quot;1000959&quot;</td><td>2022-06-30</td><td>&quot;Preferred Cash…</td><td>0.0</td></tr><tr><td>&quot;1000959&quot;</td><td>2022-06-30</td><td>&quot;Ending Capital…</td><td>19234.0</td></tr><tr><td>&quot;1000959&quot;</td><td>2022-06-30</td><td>&quot;Provision for …</td><td>0.0</td></tr><tr><td>&quot;1000959&quot;</td><td>2022-06-30</td><td>&quot;Net Income&quot;</td><td>1144.0</td></tr><tr><td>&quot;1000959&quot;</td><td>2022-06-30</td><td>&quot;Total Interest…</td><td>2717.0</td></tr><tr><td>&quot;1000959&quot;</td><td>2022-06-30</td><td>&quot;Total Noninter…</td><td>2446.0</td></tr><tr><td>&quot;1000959&quot;</td><td>2022-06-30</td><td>&quot;Total Noninter…</td><td>1004.0</td></tr><tr><td>&quot;1000959&quot;</td><td>2022-06-30</td><td>&quot;Net Interest I…</td><td>2586.0</td></tr></tbody></table></div>"
      ],
      "text/plain": [
       "shape: (10, 4)\n",
       "┌─────────┬─────────────┬───────────────────────────┬──────────────┐\n",
       "│ idrssd  ┆ filing_date ┆ metric_name               ┆ metric_value │\n",
       "│ ---     ┆ ---         ┆ ---                       ┆ ---          │\n",
       "│ str     ┆ date        ┆ str                       ┆ f64          │\n",
       "╞═════════╪═════════════╪═══════════════════════════╪══════════════╡\n",
       "│ 1000959 ┆ 2022-06-30  ┆ OCI                       ┆ -4837.0      │\n",
       "│ 1000959 ┆ 2022-06-30  ┆ Beginning Capital         ┆ 23331.0      │\n",
       "│ 1000959 ┆ 2022-06-30  ┆ Preferred Cash Dividends  ┆ 0.0          │\n",
       "│ 1000959 ┆ 2022-06-30  ┆ Ending Capital            ┆ 19234.0      │\n",
       "│ …       ┆ …           ┆ …                         ┆ …            │\n",
       "│ 1000959 ┆ 2022-06-30  ┆ Total Interest Expense    ┆ 2717.0       │\n",
       "│ 1000959 ┆ 2022-06-30  ┆ Total Noninterest Expense ┆ 2446.0       │\n",
       "│ 1000959 ┆ 2022-06-30  ┆ Total Noninterest Income  ┆ 1004.0       │\n",
       "│ 1000959 ┆ 2022-06-30  ┆ Net Interest Income       ┆ 2586.0       │\n",
       "└─────────┴─────────────┴───────────────────────────┴──────────────┘"
      ]
     },
     "execution_count": null,
     "metadata": {},
     "output_type": "execute_result"
    }
   ],
   "source": [
    "db.query(\"\"\"\n",
    "    SELECT \n",
    "        idrssd, \n",
    "        filing_date,\n",
    "        metric_name,\n",
    "        metric_value\n",
    "    FROM \n",
    "        publish.dashboard_data LIMIT 10\n",
    "\"\"\")"
   ]
  },
  {
   "cell_type": "code",
   "execution_count": null,
   "id": "6512d9ca-a053-4924-9917-9e5d35145783",
   "metadata": {},
   "outputs": [],
   "source": []
  }
 ],
 "metadata": {
  "kernelspec": {
   "display_name": "python3",
   "language": "python",
   "name": "python3"
  }
 },
 "nbformat": 4,
 "nbformat_minor": 5
}
