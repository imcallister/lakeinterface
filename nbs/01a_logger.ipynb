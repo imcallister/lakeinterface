{
 "cells": [
  {
   "cell_type": "code",
   "execution_count": null,
   "id": "94143b8e-2559-4cc1-a3b5-d865097097c9",
   "metadata": {},
   "outputs": [],
   "source": [
    "#| default_exp logger"
   ]
  },
  {
   "cell_type": "markdown",
   "id": "bde7301a-e2ba-410f-ad2c-3bf4a61c4e96",
   "metadata": {},
   "source": [
    "## Logger class\n",
    "\n",
    "This uses the watchtower library to enable logging to AWS Cloudwatch"
   ]
  },
  {
   "cell_type": "code",
   "execution_count": null,
   "id": "80cc1ba5-27e7-4c84-8b0c-999e7ffe37fe",
   "metadata": {},
   "outputs": [],
   "source": [
    "#| exporti\n",
    "\n",
    "import watchtower, logging, functools"
   ]
  },
  {
   "cell_type": "code",
   "execution_count": null,
   "id": "a1ce7411-63eb-4b22-a619-1db5d42fdcc7",
   "metadata": {},
   "outputs": [],
   "source": [
    "#| exporti\n",
    "#| hide\n",
    "\n",
    "def _boto_filter(record):\n",
    "    # Filter log messages from botocore and its dependency, urllib3, in watchtower handler for CloudWatch.\n",
    "    # This is required to avoid an infinite loop when shutting down.\n",
    "    if record.name.startswith(\"botocore\"):\n",
    "        return False\n",
    "    if record.name.startswith(\"urllib3\"):\n",
    "        return False\n",
    "    return True"
   ]
  },
  {
   "cell_type": "code",
   "execution_count": null,
   "id": "ee31c2aa-d61e-49c6-8752-4908f32e9611",
   "metadata": {},
   "outputs": [],
   "source": [
    "#| export\n",
    "#| hide\n",
    "\n",
    "class Logger:\n",
    "    \"\"\"\n",
    "    A class to wrap standard python logger but adding a handler to write to AWS CloudWatch\n",
    "    ...\n",
    "\n",
    "    Methods\n",
    "    -------\n",
    "    __init__(base_level)\n",
    "        Sets base config\n",
    "    \n",
    "    configure_logger(logger_name, handlers_config, profile_name='default'):\n",
    "        Initializes the logger and add any handlers defined in the handlers_confif\n",
    "    \n",
    "    add_stream_handler(handler_def):\n",
    "        Add a handler for logging to console\n",
    "    \n",
    "    add_file_handler(handler_def):\n",
    "        Add a handler for logging to file\n",
    "    \n",
    "    add_cloudwatch_handler(handler):\n",
    "        Add a handler for logging to AWS Cloud Watch\n",
    "\n",
    "    debug(msg) / info(msg) / warning(msg) / error(msg):\n",
    "        Write logs of the relevant level\n",
    "        \n",
    "    clear_all_handlers():\n",
    "        Remove all handlers from logger\n",
    "    \"\"\"\n",
    "    \n",
    "#     def __init__(self, base_level=logging.ERROR):\n",
    "#         logging.basicConfig(level=base_level)\n",
    "        \n",
    "    def get_logger(self, name=None):\n",
    "        if name:\n",
    "            return logging.getLogger(name)\n",
    "        else:\n",
    "            return logging.getLogger()\n",
    "    \n",
    "    def configure(self, handlers_config, logger_name=None):\n",
    "        logger = self.get_logger(logger_name)\n",
    "        \n",
    "        for h in handlers_config:\n",
    "            match h['handler_type']:\n",
    "                case 'stream':\n",
    "                    self.add_stream_handler(h, logger_name=logger_name)\n",
    "                case 'file':\n",
    "                    self.add_file_handler(h, logger_name=logger_name)\n",
    "                case 'cloudwatch':\n",
    "                    self.add_cloudwatch_handler(h, logger_name=logger_name)\n",
    "                    \n",
    "        logger.setLevel(min(h.level for h in logger.handlers))\n",
    "\n",
    "    def add_stream_handler(self, handler_def, logger_name=None):\n",
    "        logger = self.get_logger(logger_name)\n",
    "        \n",
    "        # check for existing stream handler\n",
    "        if any(type(h)==logging.StreamHandler for h in logger.handlers):\n",
    "            logger.debug('Console logging handler already attached')\n",
    "            return\n",
    "        \n",
    "        c_handler = logging.StreamHandler()\n",
    "        c_handler.setLevel(handler_def.get('level'))\n",
    "        c_format = logging.Formatter(handler_def.get('format'))\n",
    "        c_handler.setFormatter(c_format)\n",
    "        logger.addHandler(c_handler)\n",
    "        logger.debug('Console logging handler added')\n",
    "        return\n",
    "        \n",
    "    def add_file_handler(self, handler_def, logger_name=None):\n",
    "        logger = self.get_logger(logger_name)\n",
    "        \n",
    "        # check for existing file handler\n",
    "        if any(type(h)==logging.FileHandler for h in logger.handlers):\n",
    "            logger.debug('File logging handler already attached')\n",
    "            return\n",
    "        \n",
    "        f_handler = logging.FileHandler(handler_def.get('log_file_path'))\n",
    "        f_handler.setLevel(handler_def.get('level'))\n",
    "        f_format = logging.Formatter(handler_def.get('format'))\n",
    "        f_handler.setFormatter(f_format)\n",
    "        logger.addHandler(f_handler)\n",
    "        logger.debug('File Logging handler added')\n",
    "        return\n",
    "        \n",
    "    def add_cloudwatch_handler(self, handler_def, logger_name=None):\n",
    "        logger = self.get_logger(logger_name)\n",
    "        \n",
    "        # check for existing cloudwatch handler\n",
    "        if any(type(h)==watchtower.CloudWatchLogHandler for h in logger.handlers):\n",
    "            logger.debug('Cloudwatch logging Handler already attached')\n",
    "            return\n",
    "            \n",
    "        wtower_handler = watchtower.CloudWatchLogHandler(\n",
    "            log_group_name=handler_def.get('log_group_name'),\n",
    "            log_stream_name=handler_def.get('log_stream_name'),\n",
    "            send_interval=10,\n",
    "            create_log_group=False,\n",
    "            boto3_profile_name=handler_def.get('aws_profile_name')\n",
    "        )\n",
    "        wtower_handler.setLevel(handler_def.get('level'))\n",
    "        logger.addFilter(_boto_filter)\n",
    "        \n",
    "        w_format = logging.Formatter(handler_def.get('format'))\n",
    "        wtower_handler.setFormatter(w_format)\n",
    "        logger.addHandler(wtower_handler)\n",
    "        logger.debug('Cloudwatch logging handler added')\n",
    "        return\n",
    "\n",
    "    def clear_all_handlers(self, logger_name=None):\n",
    "        logger = self.get_logger(logger_name)\n",
    "        while len(logger.handlers)>0:\n",
    "            logger.removeHandler(logger.handlers[0])"
   ]
  },
  {
   "cell_type": "code",
   "execution_count": null,
   "id": "b5671fd5-bb51-47f6-8729-93eb295ff882",
   "metadata": {},
   "outputs": [],
   "source": [
    "#| export\n",
    "#| hide\n",
    "\n",
    "def log(logger_name=None, exception_handling=None):\n",
    "    \n",
    "    def decorator_log(func):\n",
    "        @functools.wraps(func)\n",
    "        def wrapper(*args, **kwargs):\n",
    "            logger = Logger().get_logger(logger_name)\n",
    "\n",
    "            args_repr = [repr(a) for a in args]\n",
    "            kwargs_repr = [f\"{k}={v!r}\" for k, v in kwargs.items()]\n",
    "            signature = \", \".join(args_repr + kwargs_repr)\n",
    "            logger.debug(f\"function {func.__name__} called with args {signature}\")\n",
    "            try:\n",
    "                result = func(*args, **kwargs)\n",
    "                return result\n",
    "            except Exception as e:\n",
    "                logger.exception(f\"Exception raised in {func.__name__}. exception: {str(e)}\")\n",
    "                if exception_handling == 'pass':\n",
    "                    return\n",
    "                else:\n",
    "                    raise e\n",
    "        return wrapper\n",
    "\n",
    "    return decorator_log\n"
   ]
  },
  {
   "cell_type": "code",
   "execution_count": null,
   "id": "14add2e2-2594-4b21-a601-269d5e99d800",
   "metadata": {},
   "outputs": [],
   "source": [
    "handler_config = [\n",
    "    {\n",
    "        'handler_type': 'stream', \n",
    "        'level': logging.DEBUG, \n",
    "        'format': '%(name)s - %(levelname)s - %(message)s'\n",
    "    }\n",
    "]\n",
    "\n",
    "logger = Logger()\n",
    "\n",
    "logger.configure(\n",
    "    handler_config,\n",
    "    logger_name='test2',\n",
    ")"
   ]
  },
  {
   "cell_type": "code",
   "execution_count": null,
   "id": "ddb747ee-8fe3-4238-9691-e865f713aa61",
   "metadata": {},
   "outputs": [],
   "source": [
    "@log(logger_name='test2', exception_handling='pass')\n",
    "def add(a,b):\n",
    "    return a + b"
   ]
  },
  {
   "cell_type": "code",
   "execution_count": null,
   "id": "3ba571ff-ad26-4e99-9494-fba6d2c4a698",
   "metadata": {},
   "outputs": [
    {
     "name": "stderr",
     "output_type": "stream",
     "text": [
      "test2 - DEBUG - function add called with args 1, 3\n"
     ]
    },
    {
     "data": {
      "text/plain": [
       "4"
      ]
     },
     "execution_count": null,
     "metadata": {},
     "output_type": "execute_result"
    }
   ],
   "source": [
    "add(1,3)"
   ]
  },
  {
   "cell_type": "code",
   "execution_count": null,
   "id": "350372cd-ffb9-4cb1-a9fc-3e4225c0befc",
   "metadata": {},
   "outputs": [
    {
     "name": "stderr",
     "output_type": "stream",
     "text": [
      "test2 - DEBUG - function add called with args 0, 'add'\n",
      "test2 - ERROR - Exception raised in add. exception: unsupported operand type(s) for +: 'int' and 'str'\n",
      "Traceback (most recent call last):\n",
      "  File \"/var/folders/02/fb55mfd556j_m0l0kyttmzzw0000gn/T/ipykernel_10531/3016154464.py\", line 16, in wrapper\n",
      "    result = func(*args, **kwargs)\n",
      "             ^^^^^^^^^^^^^^^^^^^^^\n",
      "  File \"/var/folders/02/fb55mfd556j_m0l0kyttmzzw0000gn/T/ipykernel_10531/1686762416.py\", line 3, in add\n",
      "    return a + b\n",
      "           ~~^~~\n",
      "TypeError: unsupported operand type(s) for +: 'int' and 'str'\n",
      "test2 - DEBUG - function add called with args 1, 'add'\n",
      "test2 - ERROR - Exception raised in add. exception: unsupported operand type(s) for +: 'int' and 'str'\n",
      "Traceback (most recent call last):\n",
      "  File \"/var/folders/02/fb55mfd556j_m0l0kyttmzzw0000gn/T/ipykernel_10531/3016154464.py\", line 16, in wrapper\n",
      "    result = func(*args, **kwargs)\n",
      "             ^^^^^^^^^^^^^^^^^^^^^\n",
      "  File \"/var/folders/02/fb55mfd556j_m0l0kyttmzzw0000gn/T/ipykernel_10531/1686762416.py\", line 3, in add\n",
      "    return a + b\n",
      "           ~~^~~\n",
      "TypeError: unsupported operand type(s) for +: 'int' and 'str'\n",
      "test2 - DEBUG - function add called with args 2, 'add'\n",
      "test2 - ERROR - Exception raised in add. exception: unsupported operand type(s) for +: 'int' and 'str'\n",
      "Traceback (most recent call last):\n",
      "  File \"/var/folders/02/fb55mfd556j_m0l0kyttmzzw0000gn/T/ipykernel_10531/3016154464.py\", line 16, in wrapper\n",
      "    result = func(*args, **kwargs)\n",
      "             ^^^^^^^^^^^^^^^^^^^^^\n",
      "  File \"/var/folders/02/fb55mfd556j_m0l0kyttmzzw0000gn/T/ipykernel_10531/1686762416.py\", line 3, in add\n",
      "    return a + b\n",
      "           ~~^~~\n",
      "TypeError: unsupported operand type(s) for +: 'int' and 'str'\n"
     ]
    }
   ],
   "source": [
    "for i in range(3):\n",
    "    add(i,'add')"
   ]
  },
  {
   "cell_type": "code",
   "execution_count": null,
   "id": "302a9230-1d04-482d-a104-44f1357fb1c5",
   "metadata": {},
   "outputs": [],
   "source": [
    "logger.clear_all_handlers('test2')"
   ]
  },
  {
   "cell_type": "code",
   "execution_count": null,
   "id": "9dd74869-b5c2-429d-a409-b4e68bde4e77",
   "metadata": {},
   "outputs": [
    {
     "name": "stderr",
     "output_type": "stream",
     "text": [
      "??\n"
     ]
    }
   ],
   "source": [
    "logger.get_logger('test2').error('??')"
   ]
  },
  {
   "cell_type": "code",
   "execution_count": null,
   "id": "97ab9ff0-f54c-4e3e-b583-55cc63f44d3e",
   "metadata": {},
   "outputs": [],
   "source": []
  }
 ],
 "metadata": {
  "kernelspec": {
   "display_name": "python3",
   "language": "python",
   "name": "python3"
  }
 },
 "nbformat": 4,
 "nbformat_minor": 5
}
