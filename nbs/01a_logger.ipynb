{
 "cells": [
  {
   "cell_type": "code",
   "execution_count": null,
   "id": "94143b8e-2559-4cc1-a3b5-d865097097c9",
   "metadata": {},
   "outputs": [],
   "source": [
    "#| default_exp logger"
   ]
  },
  {
   "cell_type": "markdown",
   "id": "c8ba1972-1f71-4ea4-a990-bc53b93160c7",
   "metadata": {},
   "source": [
    "## Logger Class"
   ]
  },
  {
   "cell_type": "code",
   "execution_count": null,
   "id": "bf74380d-7e54-4fab-baaa-a4e394f4b11c",
   "metadata": {},
   "outputs": [],
   "source": [
    "#| hide\n",
    "\n",
    "import sys\n",
    "from pathlib import Path\n",
    "\n",
    "sys.path.append(str(Path('.').absolute().parent))"
   ]
  },
  {
   "cell_type": "code",
   "execution_count": null,
   "id": "80cc1ba5-27e7-4c84-8b0c-999e7ffe37fe",
   "metadata": {},
   "outputs": [],
   "source": [
    "#| exporti\n",
    "\n",
    "import watchtower, logging, json\n",
    "\n",
    "from lakeinterface.config import ConfigManager"
   ]
  },
  {
   "cell_type": "code",
   "execution_count": null,
   "id": "a1ce7411-63eb-4b22-a619-1db5d42fdcc7",
   "metadata": {},
   "outputs": [],
   "source": [
    "#| exporti\n",
    "\n",
    "def _boto_filter(record):\n",
    "    # Filter log messages from botocore and its dependency, urllib3, in watchtower handler for CloudWatch.\n",
    "    # This is required to avoid an infinite loop when shutting down.\n",
    "    if record.name.startswith(\"botocore\"):\n",
    "        return False\n",
    "    if record.name.startswith(\"urllib3\"):\n",
    "        return False\n",
    "    return True"
   ]
  },
  {
   "cell_type": "code",
   "execution_count": null,
   "id": "d003185c-c3f1-45ac-b847-1a386c5fdec1",
   "metadata": {},
   "outputs": [],
   "source": [
    "#| export\n",
    "\n",
    "\n",
    "class Logger(object):\n",
    "    \"\"\"\n",
    "    A class to wrap standard python logger but adding a handler to write to AWS CloudWatch\n",
    "    ...\n",
    "\n",
    "    Attributes\n",
    "    ----------\n",
    "    logger: a standard python logger\n",
    "    \n",
    "    Methods\n",
    "    -------\n",
    "    __init__(logger_name, handlers_config, profile_name='default'):\n",
    "        Initializes the logger and add any handlers defined in the handlers_confif\n",
    "    \n",
    "    add_stream_handler(handler_def):\n",
    "        Add a handler for logging to console\n",
    "    \n",
    "    add_file_handler(handler_def):\n",
    "        Add a handler for logging to file\n",
    "    \n",
    "    add_cloudwatch_handler(handler):\n",
    "        Add a handler for logging to AWS Cloud Watch\n",
    "\n",
    "    debug(msg) / info(msg) / warning(msg) / error(msg):\n",
    "        Write logs of the relevant level\n",
    "        \n",
    "    clear_all_handlers():\n",
    "        Remove all handlers from logger\n",
    "    \"\"\"\n",
    "    \n",
    "    def __init__(self, logger_name, handlers_config, profile_name='default'):\n",
    "        self.logger = logging.getLogger(logger_name)\n",
    "        \n",
    "        for h in handlers_config:\n",
    "            match h['handler_type']:\n",
    "                case 'stream':\n",
    "                    self.add_stream_handler(h)\n",
    "                case 'file':\n",
    "                    self.add_file_handler(h)\n",
    "                case 'cloudwatch':\n",
    "                    self.add_cloudwatch_handler(h)\n",
    "                    \n",
    "        self.logger.setLevel(min(h.level for h in self.logger.handlers))\n",
    "\n",
    "    def add_stream_handler(self, handler_def):\n",
    "        # check for existing stream handler\n",
    "        if any(type(h)==logging.StreamHandler for h in self.logger.handlers):\n",
    "            print('Console Logging Handler already attached')\n",
    "            return\n",
    "        \n",
    "        print('adding stream', handler_def)\n",
    "        c_handler = logging.StreamHandler()\n",
    "        c_handler.setLevel(handler_def.get('level'))\n",
    "        c_format = logging.Formatter(handler_def.get('format'))\n",
    "        c_handler.setFormatter(c_format)\n",
    "        self.logger.addHandler(c_handler)\n",
    "        return 'stream'\n",
    "        \n",
    "    def add_file_handler(self, handler_def):\n",
    "        # check for existing file handler\n",
    "        if any(type(h)==logging.FileHandler for h in self.logger.handlers):\n",
    "            print('File Logging Handler already attached')\n",
    "            return\n",
    "        \n",
    "        print('adding file', handler_def)\n",
    "        f_handler = logging.FileHandler(handler_def.get('log_file_path'))\n",
    "        f_handler.setLevel(handler_def.get('level'))\n",
    "        f_format = logging.Formatter(handler_def.get('format'))\n",
    "        f_handler.setFormatter(f_format)\n",
    "        self.logger.addHandler(f_handler)\n",
    "        return 'file'\n",
    "        \n",
    "    def add_cloudwatch_handler(self, handler_def):\n",
    "        if any(type(h)==watchtower.CloudWatchLogHandler for h in self.logger.handlers):\n",
    "            print('Cloudwatch Logging Handler already attached')\n",
    "            return\n",
    "            \n",
    "        print('adding cloudwatch', handler_def)\n",
    "        wtower_handler = watchtower.CloudWatchLogHandler(\n",
    "            log_group_name=handler_def.get('log_group_name'),\n",
    "            log_stream_name=handler_def.get('log_stream_name'),\n",
    "            send_interval=10,\n",
    "            create_log_group=False,\n",
    "            boto3_profile_name=handler_def.get('aws_profile_name')\n",
    "        )\n",
    "        wtower_handler.setLevel(handler_def.get('level'))\n",
    "        logger.addFilter(_boto_filter)\n",
    "        \n",
    "        w_format = logging.Formatter(handler_def.get('format'))\n",
    "        wtower_handler.setFormatter(w_format)\n",
    "        self.logger.addHandler(wtower_handler)\n",
    "        return 'cloudwatch'\n",
    "    \n",
    "    def debug(self, msg):\n",
    "        self.logger.debug(msg)\n",
    "    \n",
    "    def info(self, msg):\n",
    "        self.logger.info(msg)\n",
    "    \n",
    "    def warning(self, msg):\n",
    "        self.logger.warning(msg)\n",
    "    \n",
    "    def error(self, msg):\n",
    "        self.logger.error(msg)\n",
    "    \n",
    "    def clear_all_handlers(self):\n",
    "        while self.logger.hasHandlers():\n",
    "            self.logger.removeHandler(self.logger.handlers[0])\n"
   ]
  },
  {
   "cell_type": "markdown",
   "id": "0ba94dc0-e56f-46b1-9cc4-df3ffe06d2cc",
   "metadata": {},
   "source": [
    "### Example config\n",
    "\n",
    "All handlers listed in the config will be attached to logger unless there is already one attached"
   ]
  },
  {
   "cell_type": "code",
   "execution_count": null,
   "id": "67cfe009-1420-498f-b4b6-3e8b1bae8458",
   "metadata": {},
   "outputs": [],
   "source": [
    "handlers_config = [\n",
    "    {\n",
    "        'handler_type': 'stream', \n",
    "        'level': logging.INFO, \n",
    "        'format': '%(name)s - %(levelname)s - %(message)s'\n",
    "    },\n",
    "    {\n",
    "        'handler_type': 'file', \n",
    "        'log_file_path': 'bankdata.log', \n",
    "        'level': logging.ERROR, \n",
    "        'format': '%(asctime)s - %(name)s - %(levelname)s - %(message)s'\n",
    "    },\n",
    "    {\n",
    "        'handler_type': 'cloudwatch', \n",
    "        'log_group_name': 'machinesp/test', \n",
    "        'log_stream_name': 'lake_tester', \n",
    "        'level': logging.DEBUG, \n",
    "        'aws_profile_name': 'personal',\n",
    "        'format': '%(levelname)s - %(message)s'\n",
    "    }\n",
    "]"
   ]
  },
  {
   "cell_type": "code",
   "execution_count": null,
   "id": "97ab9ff0-f54c-4e3e-b583-55cc63f44d3e",
   "metadata": {},
   "outputs": [
    {
     "name": "stdout",
     "output_type": "stream",
     "text": [
      "adding stream {'handler_type': 'stream', 'level': 20, 'format': '%(name)s - %(levelname)s - %(message)s'}\n",
      "adding file {'handler_type': 'file', 'log_file_path': 'bankdata.log', 'level': 40, 'format': '%(asctime)s - %(name)s - %(levelname)s - %(message)s'}\n",
      "adding cloudwatch {'handler_type': 'cloudwatch', 'log_group_name': 'machinesp/test', 'log_stream_name': 'lake_tester', 'level': 10, 'aws_profile_name': 'personal', 'format': '%(levelname)s - %(message)s'}\n"
     ]
    }
   ],
   "source": [
    "bankdata_logger = Logger('bankdata', handlers_config)"
   ]
  },
  {
   "cell_type": "code",
   "execution_count": null,
   "id": "80cac192-8dc8-4fab-8c07-1373606c9896",
   "metadata": {},
   "outputs": [
    {
     "name": "stderr",
     "output_type": "stream",
     "text": [
      "bankdata - INFO - {\"foo\": \"bar\"}\n"
     ]
    }
   ],
   "source": [
    "bankdata_logger.info(json.dumps({'foo':'bar'}))"
   ]
  },
  {
   "cell_type": "markdown",
   "id": "89905121-af20-4d1f-a4fe-5fc2d74f6be6",
   "metadata": {},
   "source": [
    "### Clear all attached handlers"
   ]
  },
  {
   "cell_type": "code",
   "execution_count": null,
   "id": "f7da8ee9-fd8f-4aff-a246-77536890ec43",
   "metadata": {},
   "outputs": [
    {
     "data": {
      "text/plain": [
       "[]"
      ]
     },
     "execution_count": null,
     "metadata": {},
     "output_type": "execute_result"
    }
   ],
   "source": [
    "bankdata_logger.clear_all_handlers()\n",
    "bankdata_logger.logger.handlers\n"
   ]
  }
 ],
 "metadata": {
  "kernelspec": {
   "display_name": "python3",
   "language": "python",
   "name": "python3"
  }
 },
 "nbformat": 4,
 "nbformat_minor": 5
}
