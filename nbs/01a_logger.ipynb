{
 "cells": [
  {
   "cell_type": "code",
   "execution_count": null,
   "id": "94143b8e-2559-4cc1-a3b5-d865097097c9",
   "metadata": {},
   "outputs": [],
   "source": [
    "#| default_exp logger"
   ]
  },
  {
   "cell_type": "markdown",
   "id": "bde7301a-e2ba-410f-ad2c-3bf4a61c4e96",
   "metadata": {},
   "source": [
    "## Logger configuration\n",
    "\n",
    "This uses the watchtower library to enable logging to AWS Cloudwatch\n",
    "\n",
    "Want to enforce that these functions only work with non-root loggers"
   ]
  },
  {
   "cell_type": "code",
   "execution_count": null,
   "id": "80cc1ba5-27e7-4c84-8b0c-999e7ffe37fe",
   "metadata": {},
   "outputs": [],
   "source": [
    "#| exporti\n",
    "\n",
    "import watchtower, logging, functools"
   ]
  },
  {
   "cell_type": "code",
   "execution_count": null,
   "id": "a1ce7411-63eb-4b22-a619-1db5d42fdcc7",
   "metadata": {},
   "outputs": [],
   "source": [
    "#| exporti\n",
    "#| hide\n",
    "\n",
    "def _boto_filter(record):\n",
    "    # Filter log messages from botocore and its dependency, urllib3, in watchtower handler for CloudWatch.\n",
    "    # This is required to avoid an infinite loop when shutting down.\n",
    "    if record.name.startswith(\"botocore\"):\n",
    "        return False\n",
    "    if record.name.startswith(\"urllib3\"):\n",
    "        return False\n",
    "    return True"
   ]
  },
  {
   "cell_type": "code",
   "execution_count": null,
   "id": "438733ad-4c95-47e0-997b-04dc329bf8ed",
   "metadata": {},
   "outputs": [],
   "source": []
  },
  {
   "cell_type": "code",
   "execution_count": null,
   "id": "20b3a358-6e3a-4e3a-b8bb-57c34c45a6ce",
   "metadata": {},
   "outputs": [],
   "source": [
    "#| export\n",
    "\n",
    "CONSOLE_LOG_HANDLER = {\n",
    "    'handler_type': 'stream', \n",
    "    'level': logging.INFO, \n",
    "    'format': '%(name)s - %(levelname)s - %(message)s'\n",
    "}\n",
    "\n",
    "CLOUDWATCH_LOG_HANDLER = {\n",
    "    'handler_type': 'cloudwatch', \n",
    "    'log_group_name': 'machinesp/test', \n",
    "    'log_stream_name': 'lake_tester', \n",
    "    'level': logging.DEBUG, \n",
    "    'format': '%(levelname)s - %(message)s'\n",
    "}\n",
    "\n",
    "LOG_HANDLERS = {\n",
    "    'console': CONSOLE_LOG_HANDLER,\n",
    "    'cloudwatch': CLOUDWATCH_LOG_HANDLER\n",
    "}\n"
   ]
  },
  {
   "cell_type": "code",
   "execution_count": null,
   "id": "ec615d71-94be-42a9-909f-bad903198aa7",
   "metadata": {},
   "outputs": [],
   "source": [
    "#| export\n",
    "\n",
    "    \n",
    "def clear_all_handlers(logger_name):\n",
    "    logger = logging.getLogger(logger_name)\n",
    "    while len(logger.handlers)>0:\n",
    "        logger.removeHandler(logger.handlers[0])\n",
    "        \n",
    "        \n",
    "def add_stream_handler(logger_name, handler_def):\n",
    "    logger = logging.getLogger(logger_name)\n",
    "\n",
    "    # check for existing stream handler\n",
    "    if any(type(h)==logging.StreamHandler for h in logger.handlers):\n",
    "        logger.debug('Console logging handler already attached')\n",
    "        return\n",
    "\n",
    "    c_handler = logging.StreamHandler()\n",
    "    c_handler.setLevel(handler_def.get('level'))\n",
    "    c_format = logging.Formatter(handler_def.get('format'))\n",
    "    c_handler.setFormatter(c_format)\n",
    "    logger.addHandler(c_handler)\n",
    "    logger.debug('Console logging handler added')\n",
    "    return\n",
    "\n",
    "def add_file_handler(logger_name, handler_def):\n",
    "    logger = logging.getLogger(logger_name)\n",
    "\n",
    "    # check for existing file handler\n",
    "    if any(type(h)==logging.FileHandler for h in logger.handlers):\n",
    "        logger.debug('File logging handler already attached')\n",
    "        return\n",
    "\n",
    "    f_handler = logging.FileHandler(handler_def.get('log_file_path'))\n",
    "    f_handler.setLevel(handler_def.get('level'))\n",
    "    f_format = logging.Formatter(handler_def.get('format'))\n",
    "    f_handler.setFormatter(f_format)\n",
    "    logger.addHandler(f_handler)\n",
    "    logger.debug('File Logging handler added')\n",
    "    return\n",
    "\n",
    "def add_cloudwatch_handler(logger_name, handler_def):\n",
    "    logger = logging.getLogger(logger_name)\n",
    "\n",
    "    # check for existing cloudwatch handler\n",
    "    if any(type(h)==watchtower.CloudWatchLogHandler for h in logger.handlers):\n",
    "        logger.debug('Cloudwatch logging Handler already attached')\n",
    "        return\n",
    "\n",
    "    wtower_handler = watchtower.CloudWatchLogHandler(\n",
    "        log_group_name=handler_def.get('log_group_name'),\n",
    "        log_stream_name=handler_def.get('log_stream_name'),\n",
    "        send_interval=10,\n",
    "        create_log_group=False,\n",
    "        boto3_profile_name=handler_def.get('aws_profile_name')\n",
    "    )\n",
    "    wtower_handler.setLevel(handler_def.get('level'))\n",
    "    logger.addFilter(_boto_filter)\n",
    "\n",
    "    w_format = logging.Formatter(handler_def.get('format'))\n",
    "    wtower_handler.setFormatter(w_format)\n",
    "    logger.addHandler(wtower_handler)\n",
    "    logger.debug('Cloudwatch logging handler added')\n",
    "    return\n",
    "\n",
    "\n",
    "def configure_logger(logger_name, handlers_config):\n",
    "    logger = logging.getLogger(logger_name)\n",
    "\n",
    "    for h in handlers_config:\n",
    "        match h['handler_type']:\n",
    "            case 'stream':\n",
    "                add_stream_handler(logger_name, h)\n",
    "            case 'file':\n",
    "                add_file_handler(logger_name, h)\n",
    "            case 'cloudwatch':\n",
    "                add_cloudwatch_handler(logger_name, h)\n",
    "\n",
    "    logger.setLevel(min(h.level for h in logger.handlers))"
   ]
  },
  {
   "cell_type": "code",
   "execution_count": null,
   "id": "4f60735a-8da8-4268-b5f1-74d2c0fa388b",
   "metadata": {},
   "outputs": [],
   "source": [
    "#| export\n",
    "\n",
    "def predefined_logger(logger_name, handlers):\n",
    "    unsupported_handlers = [h for h in handlers if h not in LOG_HANDLERS]\n",
    "    if len(unsupported_handlers) > 0:\n",
    "        raise Exception(f\"Unsupported handlers: {','.join(unsupported_handlers)}\")\n",
    "    \n",
    "    if logger_name in [None, '']:\n",
    "        raise Exception('Please specify logger name')\n",
    "        \n",
    "    configure_logger(logger_name, [LOG_HANDLERS.get(h) for h in handlers])\n",
    "    return logging.getLogger(logger_name)\n"
   ]
  },
  {
   "cell_type": "code",
   "execution_count": null,
   "id": "eab62fd2-54b7-456d-b21e-cba7be1d5ee0",
   "metadata": {},
   "outputs": [],
   "source": [
    "logger = predefined_logger('test', ['console'])"
   ]
  },
  {
   "cell_type": "code",
   "execution_count": null,
   "id": "6d4d389f-7114-416c-95e1-baf644433a3f",
   "metadata": {},
   "outputs": [
    {
     "name": "stderr",
     "output_type": "stream",
     "text": [
      "test - INFO - HELLO\n"
     ]
    }
   ],
   "source": [
    "logger.info('HELLO')"
   ]
  },
  {
   "cell_type": "code",
   "execution_count": null,
   "id": "630d25e5-eead-4174-b4ca-c842ff04503f",
   "metadata": {},
   "outputs": [],
   "source": [
    "non_root_loggers = [logging.getLogger(name).name for name in logging.root.manager.loggerDict]"
   ]
  },
  {
   "cell_type": "code",
   "execution_count": null,
   "id": "3af71cc2-73c4-45ac-99fb-a094e5dbe7ce",
   "metadata": {},
   "outputs": [],
   "source": [
    "assert 'test' in non_root_loggers"
   ]
  },
  {
   "cell_type": "code",
   "execution_count": null,
   "id": "b5671fd5-bb51-47f6-8729-93eb295ff882",
   "metadata": {},
   "outputs": [],
   "source": [
    "#| export\n",
    "#| hide\n",
    "\n",
    "def log(logger_name='default', exception_handling=None):\n",
    "    \n",
    "    def decorator_log(func):\n",
    "        \n",
    "        handler_config = [\n",
    "            {\n",
    "                'handler_type': 'stream', \n",
    "                'level': logging.DEBUG, \n",
    "                'format': '%(name)s - %(levelname)s - %(message)s'\n",
    "            }\n",
    "        ]\n",
    "\n",
    "        configure_logger(logger_name, handler_config)\n",
    "        logger = logging.getLogger(logger_name)\n",
    "        \n",
    "        @functools.wraps(func)\n",
    "        def wrapper(*args, **kwargs):\n",
    "            kwargs['logger'] = logger\n",
    "            \n",
    "            args_repr = [repr(a) for a in args]\n",
    "            kwargs_repr = [f\"{k}={v!r}\" for k, v in kwargs.items()]\n",
    "            signature = \", \".join(args_repr + kwargs_repr)\n",
    "            logger.debug(f\"function {func.__name__} called with args {signature}\")\n",
    "            try:\n",
    "                result = func(*args, **kwargs)\n",
    "                return result\n",
    "            except Exception as e:\n",
    "                logger.exception(f\"Exception raised in {func.__name__}. exception: {str(e)}\")\n",
    "                if exception_handling == 'pass':\n",
    "                    return\n",
    "                else:\n",
    "                    raise e\n",
    "        return wrapper\n",
    "\n",
    "    return decorator_log\n"
   ]
  },
  {
   "cell_type": "code",
   "execution_count": null,
   "id": "c2882bdd-24b8-4546-b2de-13f48459afb0",
   "metadata": {},
   "outputs": [],
   "source": [
    "@log(logger_name='test')\n",
    "def test(logger=None):\n",
    "    return logger"
   ]
  },
  {
   "cell_type": "code",
   "execution_count": null,
   "id": "9e1052f3-ca2a-4275-a22f-f32a4a8e3ad4",
   "metadata": {},
   "outputs": [],
   "source": [
    "l = test()"
   ]
  },
  {
   "cell_type": "code",
   "execution_count": null,
   "id": "9dbbc390-ceec-4bd9-b8dd-863e8e1edb45",
   "metadata": {},
   "outputs": [
    {
     "name": "stderr",
     "output_type": "stream",
     "text": [
      "test - INFO - foo\n"
     ]
    }
   ],
   "source": [
    "l.info('foo')"
   ]
  },
  {
   "cell_type": "code",
   "execution_count": null,
   "id": "ddb747ee-8fe3-4238-9691-e865f713aa61",
   "metadata": {},
   "outputs": [],
   "source": [
    "@log(logger_name='test3', exception_handling='pass')\n",
    "def add(a,b, logger=None):\n",
    "    logger.debug('FROM add function')\n",
    "    logger.info('INFO add function')\n",
    "    logger.error('ERROR add function')\n",
    "    return a + b"
   ]
  },
  {
   "cell_type": "code",
   "execution_count": null,
   "id": "3ba571ff-ad26-4e99-9494-fba6d2c4a698",
   "metadata": {},
   "outputs": [
    {
     "name": "stderr",
     "output_type": "stream",
     "text": [
      "test3 - DEBUG - function add called with args 1, 3, logger=<Logger test3 (DEBUG)>\n",
      "test3 - DEBUG - FROM add function\n",
      "test3 - INFO - INFO add function\n",
      "test3 - ERROR - ERROR add function\n"
     ]
    },
    {
     "data": {
      "text/plain": [
       "4"
      ]
     },
     "execution_count": null,
     "metadata": {},
     "output_type": "execute_result"
    }
   ],
   "source": [
    "add(1,3)"
   ]
  },
  {
   "cell_type": "code",
   "execution_count": null,
   "id": "350372cd-ffb9-4cb1-a9fc-3e4225c0befc",
   "metadata": {},
   "outputs": [
    {
     "name": "stderr",
     "output_type": "stream",
     "text": [
      "test3 - DEBUG - function add called with args 0, 'add', logger=<Logger test3 (DEBUG)>\n",
      "test3 - DEBUG - FROM add function\n",
      "test3 - INFO - INFO add function\n",
      "test3 - ERROR - ERROR add function\n",
      "test3 - ERROR - Exception raised in add. exception: unsupported operand type(s) for +: 'int' and 'str'\n",
      "Traceback (most recent call last):\n",
      "  File \"/var/folders/02/fb55mfd556j_m0l0kyttmzzw0000gn/T/ipykernel_42584/2816434453.py\", line 28, in wrapper\n",
      "    result = func(*args, **kwargs)\n",
      "             ^^^^^^^^^^^^^^^^^^^^^\n",
      "  File \"/var/folders/02/fb55mfd556j_m0l0kyttmzzw0000gn/T/ipykernel_42584/2914197355.py\", line 6, in add\n",
      "    return a + b\n",
      "           ~~^~~\n",
      "TypeError: unsupported operand type(s) for +: 'int' and 'str'\n",
      "test3 - DEBUG - function add called with args 1, 'add', logger=<Logger test3 (DEBUG)>\n",
      "test3 - DEBUG - FROM add function\n",
      "test3 - INFO - INFO add function\n",
      "test3 - ERROR - ERROR add function\n",
      "test3 - ERROR - Exception raised in add. exception: unsupported operand type(s) for +: 'int' and 'str'\n",
      "Traceback (most recent call last):\n",
      "  File \"/var/folders/02/fb55mfd556j_m0l0kyttmzzw0000gn/T/ipykernel_42584/2816434453.py\", line 28, in wrapper\n",
      "    result = func(*args, **kwargs)\n",
      "             ^^^^^^^^^^^^^^^^^^^^^\n",
      "  File \"/var/folders/02/fb55mfd556j_m0l0kyttmzzw0000gn/T/ipykernel_42584/2914197355.py\", line 6, in add\n",
      "    return a + b\n",
      "           ~~^~~\n",
      "TypeError: unsupported operand type(s) for +: 'int' and 'str'\n",
      "test3 - DEBUG - function add called with args 2, 'add', logger=<Logger test3 (DEBUG)>\n",
      "test3 - DEBUG - FROM add function\n",
      "test3 - INFO - INFO add function\n",
      "test3 - ERROR - ERROR add function\n",
      "test3 - ERROR - Exception raised in add. exception: unsupported operand type(s) for +: 'int' and 'str'\n",
      "Traceback (most recent call last):\n",
      "  File \"/var/folders/02/fb55mfd556j_m0l0kyttmzzw0000gn/T/ipykernel_42584/2816434453.py\", line 28, in wrapper\n",
      "    result = func(*args, **kwargs)\n",
      "             ^^^^^^^^^^^^^^^^^^^^^\n",
      "  File \"/var/folders/02/fb55mfd556j_m0l0kyttmzzw0000gn/T/ipykernel_42584/2914197355.py\", line 6, in add\n",
      "    return a + b\n",
      "           ~~^~~\n",
      "TypeError: unsupported operand type(s) for +: 'int' and 'str'\n"
     ]
    }
   ],
   "source": [
    "for i in range(3):\n",
    "    add(i,'add')"
   ]
  },
  {
   "cell_type": "code",
   "execution_count": null,
   "id": "302a9230-1d04-482d-a104-44f1357fb1c5",
   "metadata": {},
   "outputs": [],
   "source": [
    "clear_all_handlers('test2')"
   ]
  },
  {
   "cell_type": "code",
   "execution_count": null,
   "id": "9dd74869-b5c2-429d-a409-b4e68bde4e77",
   "metadata": {},
   "outputs": [
    {
     "name": "stderr",
     "output_type": "stream",
     "text": [
      "??\n"
     ]
    }
   ],
   "source": [
    "logger = logging.getLogger('test2')\n",
    "logger.error('??')"
   ]
  },
  {
   "cell_type": "code",
   "execution_count": null,
   "id": "97ab9ff0-f54c-4e3e-b583-55cc63f44d3e",
   "metadata": {},
   "outputs": [],
   "source": []
  }
 ],
 "metadata": {
  "kernelspec": {
   "display_name": "python3",
   "language": "python",
   "name": "python3"
  }
 },
 "nbformat": 4,
 "nbformat_minor": 5
}
