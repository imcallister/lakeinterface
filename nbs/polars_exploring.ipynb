{
 "cells": [
  {
   "cell_type": "markdown",
   "id": "48794297-7bc6-43fd-aafa-e34c161cb0fd",
   "metadata": {},
   "source": [
    "### Testing polars\n",
    "\n",
    "There are multiple ways of having polars load & save data from S3. This was to test out approaches for which approach to take in the Datalake class defined above"
   ]
  },
  {
   "cell_type": "code",
   "execution_count": null,
   "id": "9b83d1e4-8229-4d2b-987c-1b012e377152",
   "metadata": {},
   "outputs": [],
   "source": [
    "import pyarrow.parquet as pq\n",
    "import pyarrow.dataset as ds\n",
    "import time"
   ]
  },
  {
   "cell_type": "code",
   "execution_count": null,
   "id": "ec139470-78e7-4391-bbc3-0b0480ce5a59",
   "metadata": {},
   "outputs": [],
   "source": [
    "fs = s3fs.S3FileSystem()\n",
    "bucket = lake.bucket"
   ]
  },
  {
   "cell_type": "markdown",
   "id": "bc54d114-1b30-487e-a198-8e7b761675dd",
   "metadata": {},
   "source": [
    "#### Reading parquet file I\n",
    "\n",
    "Doesn't work with scan"
   ]
  },
  {
   "cell_type": "code",
   "execution_count": null,
   "id": "b6b8b2a8-27ce-49a0-a930-28a564755b81",
   "metadata": {},
   "outputs": [
    {
     "name": "stdout",
     "output_type": "stream",
     "text": [
      "0.45589590072631836\n"
     ]
    }
   ],
   "source": [
    "path = 'test/example1/data.parquet'\n",
    "\n",
    "t0 = time.time()\n",
    "\n",
    "dataset = pq.ParquetDataset(f\"s3://{bucket}/{path}\", filesystem=fs)\n",
    "df = pl.from_arrow(dataset.read())\n",
    "print(time.time() - t0)"
   ]
  },
  {
   "cell_type": "code",
   "execution_count": null,
   "id": "49429bce-05be-44e1-a2ac-ba4374eead94",
   "metadata": {},
   "outputs": [
    {
     "data": {
      "text/html": [
       "<div><style>\n",
       ".dataframe > thead > tr > th,\n",
       ".dataframe > tbody > tr > td {\n",
       "  text-align: right;\n",
       "}\n",
       "</style>\n",
       "<small>shape: (2, 2)</small><table border=\"1\" class=\"dataframe\"><thead><tr><th>col1</th><th>col2</th></tr><tr><td>i64</td><td>i64</td></tr></thead><tbody><tr><td>1</td><td>3</td></tr><tr><td>2</td><td>4</td></tr></tbody></table></div>"
      ],
      "text/plain": [
       "shape: (2, 2)\n",
       "┌──────┬──────┐\n",
       "│ col1 ┆ col2 │\n",
       "│ ---  ┆ ---  │\n",
       "│ i64  ┆ i64  │\n",
       "╞══════╪══════╡\n",
       "│ 1    ┆ 3    │\n",
       "│ 2    ┆ 4    │\n",
       "└──────┴──────┘"
      ]
     },
     "execution_count": null,
     "metadata": {},
     "output_type": "execute_result"
    }
   ],
   "source": [
    "df"
   ]
  },
  {
   "cell_type": "markdown",
   "id": "d3d47e4b-748a-42fb-baed-2f38bacb84cc",
   "metadata": {},
   "source": [
    "#### Reading parquet file II\n",
    "\n",
    "using pyarrow dataset to specify format"
   ]
  },
  {
   "cell_type": "code",
   "execution_count": null,
   "id": "8c6fd4a7-df93-4462-a24d-c836d49cd2ba",
   "metadata": {},
   "outputs": [
    {
     "name": "stdout",
     "output_type": "stream",
     "text": [
      "shape: (2, 2)\n",
      "┌──────┬──────┐\n",
      "│ col1 ┆ col2 │\n",
      "│ ---  ┆ ---  │\n",
      "│ i64  ┆ i64  │\n",
      "╞══════╪══════╡\n",
      "│ 1    ┆ 3    │\n",
      "│ 2    ┆ 4    │\n",
      "└──────┴──────┘\n",
      "0.3325178623199463\n"
     ]
    }
   ],
   "source": [
    "t0 = time.time()\n",
    "dataset2 = ds.dataset(f\"s3://{bucket}/{path}\", filesystem=fs, format='parquet')\n",
    "df_parquet = pl.scan_pyarrow_dataset(dataset2)\n",
    "\n",
    "print(df_parquet.collect().head())\n",
    "print(time.time() - t0)"
   ]
  },
  {
   "cell_type": "markdown",
   "id": "a0fc06f3-f44a-447a-9606-cc26aadac231",
   "metadata": {},
   "source": [
    "#### Reading parquet file III\n",
    "\n",
    "using boto3 get_object\n",
    "\n",
    "Doesn't allow scanning but approach works for csv and json files too. Appears to be quicker too\n",
    "\n",
    "This is first choice and an easy switch"
   ]
  },
  {
   "cell_type": "code",
   "execution_count": null,
   "id": "9e702c12-8670-447e-b629-6f74e4334277",
   "metadata": {},
   "outputs": [
    {
     "name": "stdout",
     "output_type": "stream",
     "text": [
      "0.2166750431060791\n"
     ]
    }
   ],
   "source": [
    "t0 = time.time()\n",
    "\n",
    "obj = lake.get_object('test/example2/data.parquet')\n",
    "df = pl.read_parquet(BytesIO(obj.read()))\n",
    "\n",
    "print(time.time() - t0)"
   ]
  },
  {
   "cell_type": "code",
   "execution_count": null,
   "id": "67c36b1f-4048-4554-85b5-ddc7f3766b1e",
   "metadata": {},
   "outputs": [],
   "source": []
  },
  {
   "cell_type": "markdown",
   "id": "d4bd483b-45e7-4eed-9678-74e479e7634f",
   "metadata": {},
   "source": [
    "#### Writing parquet file"
   ]
  },
  {
   "cell_type": "code",
   "execution_count": null,
   "id": "135cbb42-afbc-4295-876f-837ed7ffe65b",
   "metadata": {},
   "outputs": [
    {
     "data": {
      "text/html": [
       "<div><style>\n",
       ".dataframe > thead > tr > th,\n",
       ".dataframe > tbody > tr > td {\n",
       "  text-align: right;\n",
       "}\n",
       "</style>\n",
       "<small>shape: (2, 2)</small><table border=\"1\" class=\"dataframe\"><thead><tr><th>col1</th><th>col2</th></tr><tr><td>i64</td><td>i64</td></tr></thead><tbody><tr><td>1</td><td>3</td></tr><tr><td>2</td><td>4</td></tr></tbody></table></div>"
      ],
      "text/plain": [
       "shape: (2, 2)\n",
       "┌──────┬──────┐\n",
       "│ col1 ┆ col2 │\n",
       "│ ---  ┆ ---  │\n",
       "│ i64  ┆ i64  │\n",
       "╞══════╪══════╡\n",
       "│ 1    ┆ 3    │\n",
       "│ 2    ┆ 4    │\n",
       "└──────┴──────┘"
      ]
     },
     "execution_count": null,
     "metadata": {},
     "output_type": "execute_result"
    }
   ],
   "source": [
    "d = {'col1': [1, 2], 'col2': [3, 4]}\n",
    "df = pl.DataFrame(data=d)\n",
    "df"
   ]
  },
  {
   "cell_type": "code",
   "execution_count": null,
   "id": "16b62e75-2d3f-4c28-913d-9ecc49912105",
   "metadata": {},
   "outputs": [
    {
     "name": "stdout",
     "output_type": "stream",
     "text": [
      "0.09860610961914062\n"
     ]
    }
   ],
   "source": [
    "t0 = time.time()\n",
    "with fs.open(f'{bucket}/test/example3/data.parquet', mode='wb') as f:\n",
    "    df.write_parquet(f)\n",
    "    \n",
    "print(time.time() - t0)"
   ]
  },
  {
   "cell_type": "code",
   "execution_count": null,
   "id": "188629c4-e128-44c0-9a1f-c2ef477aa781",
   "metadata": {},
   "outputs": [
    {
     "name": "stdout",
     "output_type": "stream",
     "text": [
      "shape: (2, 2)\n",
      "┌──────┬──────┐\n",
      "│ col1 ┆ col2 │\n",
      "│ ---  ┆ ---  │\n",
      "│ i64  ┆ i64  │\n",
      "╞══════╪══════╡\n",
      "│ 1    ┆ 3    │\n",
      "│ 2    ┆ 4    │\n",
      "└──────┴──────┘\n"
     ]
    }
   ],
   "source": [
    "path = 'test/example3/data.parquet'\n",
    "dataset2 = ds.dataset(f\"s3://{bucket}/{path}\", filesystem=fs, format='parquet')\n",
    "df_parquet = pl.scan_pyarrow_dataset(dataset2)\n",
    "print(df_parquet.collect().head())"
   ]
  },
  {
   "cell_type": "code",
   "execution_count": null,
   "id": "13e1b5ce-379d-41db-a18f-9765a0f6876e",
   "metadata": {},
   "outputs": [],
   "source": []
  },
  {
   "cell_type": "code",
   "execution_count": null,
   "id": "49e73c0f-e24a-4fcf-bbff-c2220b1c7a90",
   "metadata": {},
   "outputs": [],
   "source": []
  }
 ],
 "metadata": {
  "kernelspec": {
   "display_name": "python3",
   "language": "python",
   "name": "python3"
  }
 },
 "nbformat": 4,
 "nbformat_minor": 5
}
